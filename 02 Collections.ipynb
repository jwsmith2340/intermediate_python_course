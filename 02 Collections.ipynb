{
 "cells": [
  {
   "cell_type": "markdown",
   "id": "a8c34c50",
   "metadata": {},
   "source": [
    "# Intermediate Python\n",
    "---\n",
    "## Collections"
   ]
  },
  {
   "cell_type": "markdown",
   "id": "68a95191",
   "metadata": {},
   "source": [
    "---\n",
    "### Ordered Dictionary"
   ]
  },
  {
   "cell_type": "code",
   "execution_count": 1,
   "id": "c2caee4f",
   "metadata": {},
   "outputs": [
    {
     "data": {
      "text/plain": [
       "{'One': 1, 'Two': 2, 'Three': 3}"
      ]
     },
     "execution_count": 1,
     "metadata": {},
     "output_type": "execute_result"
    }
   ],
   "source": [
    "d = {}\n",
    "d['One'] = 1\n",
    "d['Two'] = 2\n",
    "d['Three'] = 3\n",
    "d"
   ]
  },
  {
   "cell_type": "markdown",
   "id": "cafc5a57",
   "metadata": {},
   "source": [
    ">We can import the Ordered Dict from collections, and we can see here that an ordered dict's base type is just a dictionary, so considering inheritance, we can surmise that we can utilize all of the dict's methods."
   ]
  },
  {
   "cell_type": "code",
   "execution_count": 2,
   "id": "f7c423b3",
   "metadata": {},
   "outputs": [
    {
     "data": {
      "text/plain": [
       "dict"
      ]
     },
     "execution_count": 2,
     "metadata": {},
     "output_type": "execute_result"
    }
   ],
   "source": [
    "from collections import OrderedDict\n",
    "\n",
    "OrderedDict.__base__"
   ]
  },
  {
   "cell_type": "code",
   "execution_count": 3,
   "id": "608992c9",
   "metadata": {},
   "outputs": [
    {
     "data": {
      "text/plain": [
       "OrderedDict([('a', 1), ('b', 2), ('c', 3)])"
      ]
     },
     "execution_count": 3,
     "metadata": {},
     "output_type": "execute_result"
    }
   ],
   "source": [
    "# We can instantiate an OrderedDict and add values as we would expect for a \n",
    "# normal dict. We see that the values are returned as a list of tuples.\n",
    "od = OrderedDict()\n",
    "od['a'] = 1\n",
    "od['b'] = 2\n",
    "od['c'] = 3\n",
    "od"
   ]
  },
  {
   "cell_type": "code",
   "execution_count": 4,
   "id": "b8e27db9",
   "metadata": {},
   "outputs": [
    {
     "data": {
      "text/plain": [
       "OrderedDict([('a', 1), ('b', 5), ('c', 3)])"
      ]
     },
     "execution_count": 4,
     "metadata": {},
     "output_type": "execute_result"
    }
   ],
   "source": [
    "# Normal dictionary methods apply, for instance, we can change the value based on keys, as seen here\n",
    "od['b'] = 5\n",
    "od"
   ]
  },
  {
   "cell_type": "code",
   "execution_count": 5,
   "id": "f92c0bb0",
   "metadata": {},
   "outputs": [
    {
     "data": {
      "text/plain": [
       "OrderedDict([('b', 2), ('c', 3), ('a', 1)])"
      ]
     },
     "execution_count": 5,
     "metadata": {},
     "output_type": "execute_result"
    }
   ],
   "source": [
    "od['b'] = 2\n",
    "\n",
    "# We can use the method move_to_end() to move a dict entry to the end if True is set\n",
    "od.move_to_end('a', True)\n",
    "od"
   ]
  },
  {
   "cell_type": "code",
   "execution_count": 6,
   "id": "e3739c3f",
   "metadata": {},
   "outputs": [
    {
     "data": {
      "text/plain": [
       "OrderedDict([('c', 3), ('b', 2), ('a', 1)])"
      ]
     },
     "execution_count": 6,
     "metadata": {},
     "output_type": "execute_result"
    }
   ],
   "source": [
    "# If we set the flag to False, we can move an element to the BEGINNING of the ordered dict\n",
    "od.move_to_end('c', False)\n",
    "od"
   ]
  },
  {
   "cell_type": "code",
   "execution_count": 7,
   "id": "fff26ebc",
   "metadata": {},
   "outputs": [
    {
     "data": {
      "text/plain": [
       "True"
      ]
     },
     "execution_count": 7,
     "metadata": {},
     "output_type": "execute_result"
    }
   ],
   "source": [
    "# Predictably, two dictionaries with the same key:value pairs in different orders returns true\n",
    "dict1 = {}\n",
    "dict1['a'] = 'A'\n",
    "dict1['b'] = 'B'\n",
    "\n",
    "dict2 = {}\n",
    "dict2['b'] = 'B'\n",
    "dict2['a'] = 'A'\n",
    "\n",
    "dict1 == dict2"
   ]
  },
  {
   "cell_type": "code",
   "execution_count": 8,
   "id": "3fb5753a",
   "metadata": {},
   "outputs": [
    {
     "data": {
      "text/plain": [
       "False"
      ]
     },
     "execution_count": 8,
     "metadata": {},
     "output_type": "execute_result"
    }
   ],
   "source": [
    "# Now, however, the order of the elements matters when we instantiate as an ordered dict\n",
    "dict1 = OrderedDict()\n",
    "dict1['a'] = 'A'\n",
    "dict1['b'] = 'B'\n",
    "\n",
    "dict2 = OrderedDict()\n",
    "dict2['b'] = 'B'\n",
    "dict2['a'] = 'A'\n",
    "\n",
    "dict1 == dict2"
   ]
  },
  {
   "cell_type": "code",
   "execution_count": 9,
   "id": "5f9aeedd",
   "metadata": {},
   "outputs": [
    {
     "data": {
      "text/plain": [
       "True"
      ]
     },
     "execution_count": 9,
     "metadata": {},
     "output_type": "execute_result"
    }
   ],
   "source": [
    "# But, we can rearrange one of these to bring these into harmony\n",
    "dict2.move_to_end('b', True)\n",
    "\n",
    "dict1 == dict2"
   ]
  },
  {
   "cell_type": "code",
   "execution_count": 10,
   "id": "a5e65195",
   "metadata": {},
   "outputs": [
    {
     "name": "stdout",
     "output_type": "stream",
     "text": [
      "{'h': 1, 'e': 1, 'l': 3, 'o': 2, 'w': 1, 'r': 1, 'd': 1}\n"
     ]
    }
   ],
   "source": [
    "# Assignment, each letter is a key, and the value is the data frequency\n",
    "def letter_freq(str1):\n",
    "    res_dict = {}\n",
    "    \n",
    "    for val in str1:\n",
    "        res_dict[val] = res_dict.get(val, 0) + 1\n",
    "        \n",
    "    return res_dict\n",
    "\n",
    "s1 = 'helloworld'\n",
    "print(letter_freq(s1))"
   ]
  },
  {
   "cell_type": "markdown",
   "id": "bd9f4617",
   "metadata": {},
   "source": [
    "### Default Dictionary\n",
    "- Used when we need a default value for a key which does not exist in the dictionary\n",
    "- A regular dictionary raises a key error when a key does not exist, but the default dictionary never raises a key error, instead providing a default value"
   ]
  },
  {
   "cell_type": "code",
   "execution_count": 11,
   "id": "ca2b2bd9",
   "metadata": {},
   "outputs": [],
   "source": [
    "from collections import defaultdict"
   ]
  },
  {
   "cell_type": "code",
   "execution_count": 12,
   "id": "45a059d7",
   "metadata": {},
   "outputs": [
    {
     "data": {
      "text/plain": [
       "defaultdict(int, {'h': 1, 'e': 1, 'l': 3, 'o': 2, 'w': 1, 'r': 1, 'd': 1})"
      ]
     },
     "execution_count": 12,
     "metadata": {},
     "output_type": "execute_result"
    }
   ],
   "source": [
    "# Looking at the assignment from above, let's see how a default dict can help up\n",
    "s1 = 'helloworld'\n",
    "# The default value depends on the type specified: \n",
    "# int - 0\n",
    "# str - ''\n",
    "# list - []\n",
    "\n",
    "letter_count = defaultdict(int) \n",
    "\n",
    "for letter in s1:\n",
    "    letter_count[letter] = letter_count[letter] + 1 \n",
    "\n",
    "letter_count"
   ]
  },
  {
   "cell_type": "code",
   "execution_count": 13,
   "id": "d84667be",
   "metadata": {},
   "outputs": [
    {
     "name": "stdout",
     "output_type": "stream",
     "text": [
      "Apple\n",
      "Zebra\n",
      "Not present\n"
     ]
    }
   ],
   "source": [
    "# A default dictionary can also return a custom default value if we choose\n",
    "\n",
    "# The function is called if a key does not exist, this is the default being referred to\n",
    "def default_value():\n",
    "    return 'Not present'\n",
    "\n",
    "d = defaultdict(default_value) # Return value of the fn becomes the default value\n",
    "d['A'] = 'Apple'\n",
    "d['Z'] = 'Zebra'\n",
    "\n",
    "print(d['A'])\n",
    "print(d['Z'])\n",
    "print(d['X'])"
   ]
  },
  {
   "cell_type": "markdown",
   "id": "05f44267",
   "metadata": {},
   "source": [
    "#### Assignment: Read from a file where each line is a fruit name followed by a count\n",
    "\n",
    "- apple 2\n",
    "- pear 4\n",
    "- cherry 3\n",
    "- apple 5\n",
    "- pear 8\n",
    "- apple 1\n",
    "\n",
    "Dictionary --> {'apple': [2,5,1], 'pear': [4,8], 'cherry': [3]}"
   ]
  },
  {
   "cell_type": "markdown",
   "id": "81c9404e",
   "metadata": {},
   "source": [
    "### Named Tuple\n",
    "- Allows us to access elements by their name rather than index, similar to dictionaries\n",
    "- Immutable"
   ]
  },
  {
   "cell_type": "code",
   "execution_count": 14,
   "id": "ab9b8a00",
   "metadata": {},
   "outputs": [],
   "source": [
    "from collections import namedtuple"
   ]
  },
  {
   "cell_type": "code",
   "execution_count": 15,
   "id": "2f20d709",
   "metadata": {},
   "outputs": [
    {
     "data": {
      "text/plain": [
       "__main__.Point"
      ]
     },
     "execution_count": 15,
     "metadata": {},
     "output_type": "execute_result"
    }
   ],
   "source": [
    "Point = namedtuple('Point', 'x y')\n",
    "\n",
    "p1 = Point(2, 3)\n",
    "\n",
    "type(p1)"
   ]
  },
  {
   "cell_type": "code",
   "execution_count": 16,
   "id": "8bfef7c6",
   "metadata": {},
   "outputs": [
    {
     "data": {
      "text/plain": [
       "__main__.Point2"
      ]
     },
     "execution_count": 16,
     "metadata": {},
     "output_type": "execute_result"
    }
   ],
   "source": [
    "# So what type is that? Is it the variable, or is it the variable?\n",
    "Point1 = namedtuple('Point2', 'x y')\n",
    "\n",
    "p1 = Point1(2, 3)\n",
    "\n",
    "type(p1)"
   ]
  },
  {
   "cell_type": "code",
   "execution_count": 17,
   "id": "57c6f30a",
   "metadata": {},
   "outputs": [],
   "source": [
    "# Now we see, when we create the tupe object, we are using the variable on the left side"
   ]
  },
  {
   "cell_type": "code",
   "execution_count": 18,
   "id": "cea9e8d4",
   "metadata": {},
   "outputs": [
    {
     "data": {
      "text/plain": [
       "2"
      ]
     },
     "execution_count": 18,
     "metadata": {},
     "output_type": "execute_result"
    }
   ],
   "source": [
    "p1.x"
   ]
  },
  {
   "cell_type": "code",
   "execution_count": 19,
   "id": "19dc08a5",
   "metadata": {},
   "outputs": [
    {
     "data": {
      "text/plain": [
       "2"
      ]
     },
     "execution_count": 19,
     "metadata": {},
     "output_type": "execute_result"
    }
   ],
   "source": [
    "p1[0]"
   ]
  },
  {
   "cell_type": "code",
   "execution_count": 20,
   "id": "b1d69030",
   "metadata": {},
   "outputs": [
    {
     "data": {
      "text/plain": [
       "3"
      ]
     },
     "execution_count": 20,
     "metadata": {},
     "output_type": "execute_result"
    }
   ],
   "source": [
    "p1.y"
   ]
  },
  {
   "cell_type": "code",
   "execution_count": 21,
   "id": "451d9098",
   "metadata": {},
   "outputs": [
    {
     "data": {
      "text/plain": [
       "Employee(id=101, name='John', designation='Programmer')"
      ]
     },
     "execution_count": 21,
     "metadata": {},
     "output_type": "execute_result"
    }
   ],
   "source": [
    "Employee = namedtuple('Employee', ['id', 'name', 'designation'])\n",
    "\n",
    "e1 = Employee(101, 'John', 'Programmer')\n",
    "e1"
   ]
  },
  {
   "cell_type": "code",
   "execution_count": 22,
   "id": "bbb4aa4e",
   "metadata": {},
   "outputs": [
    {
     "name": "stdout",
     "output_type": "stream",
     "text": [
      "101\n",
      "John\n",
      "Programmer\n"
     ]
    }
   ],
   "source": [
    "# This is very much like working with objects instead of tuples\n",
    "print(e1.id)\n",
    "print(e1.name)\n",
    "print(e1.designation)"
   ]
  },
  {
   "cell_type": "code",
   "execution_count": 23,
   "id": "3c4f1132",
   "metadata": {},
   "outputs": [
    {
     "data": {
      "text/plain": [
       "Employee(id=102, name='Sam', designation='Accountant')"
      ]
     },
     "execution_count": 23,
     "metadata": {},
     "output_type": "execute_result"
    }
   ],
   "source": [
    "# Named tuple from a list\n",
    "list1 = [102, 'Sam', 'Accountant']\n",
    "\n",
    "e2 = Employee._make(list1)\n",
    "\n",
    "e2"
   ]
  },
  {
   "cell_type": "code",
   "execution_count": 24,
   "id": "d040af7d",
   "metadata": {},
   "outputs": [],
   "source": [
    "# The named tuple essentially acts like a class constructor in a way"
   ]
  },
  {
   "cell_type": "code",
   "execution_count": 25,
   "id": "ef432f2f",
   "metadata": {},
   "outputs": [
    {
     "data": {
      "text/plain": [
       "('id', 'name', 'designation')"
      ]
     },
     "execution_count": 25,
     "metadata": {},
     "output_type": "execute_result"
    }
   ],
   "source": [
    "# We can now check the fields, which are equivalent to keys in a dict\n",
    "Employee._fields"
   ]
  },
  {
   "cell_type": "code",
   "execution_count": 26,
   "id": "4e202aca",
   "metadata": {},
   "outputs": [
    {
     "data": {
      "text/plain": [
       "Employee(id=202, name='Matt', designation='Manager')"
      ]
     },
     "execution_count": 26,
     "metadata": {},
     "output_type": "execute_result"
    }
   ],
   "source": [
    "# How can we create and employ this from a dictionary?\n",
    "dict1 = {'id':202, 'name':'Matt', 'designation':'Manager'}\n",
    "e3 = Employee._make(dict1.values())\n",
    "e3"
   ]
  },
  {
   "cell_type": "code",
   "execution_count": 27,
   "id": "81a986a3",
   "metadata": {},
   "outputs": [
    {
     "data": {
      "text/plain": [
       "Employee(id=202, name='Matt', designation='Manager')"
      ]
     },
     "execution_count": 27,
     "metadata": {},
     "output_type": "execute_result"
    }
   ],
   "source": [
    "# Or, you could also pass the dict as kwargs\n",
    "# How can we create and employ this from a dictionary?\n",
    "e4 = Employee(**dict1)\n",
    "e4"
   ]
  },
  {
   "cell_type": "code",
   "execution_count": 28,
   "id": "a31aacc4",
   "metadata": {},
   "outputs": [
    {
     "data": {
      "text/plain": [
       "'not set'"
      ]
     },
     "execution_count": 28,
     "metadata": {},
     "output_type": "execute_result"
    }
   ],
   "source": [
    "# We can also use the getattr function to try to return values that may not exist without raising errors\n",
    "getattr(e4, 'age', 'not set')"
   ]
  },
  {
   "cell_type": "markdown",
   "id": "8302e335",
   "metadata": {},
   "source": [
    "### Counter Class\n",
    "- Sub-class of dictionary\n",
    "- Things being counted are keys and counts are values\n",
    "- There can be negative values"
   ]
  },
  {
   "cell_type": "code",
   "execution_count": 29,
   "id": "e180db09",
   "metadata": {},
   "outputs": [
    {
     "name": "stdout",
     "output_type": "stream",
     "text": [
      "<class 'type'>\n"
     ]
    }
   ],
   "source": [
    "from collections import Counter\n",
    "\n",
    "print(type(Counter))"
   ]
  },
  {
   "cell_type": "code",
   "execution_count": 30,
   "id": "6ee08a41",
   "metadata": {},
   "outputs": [
    {
     "data": {
      "text/plain": [
       "dict"
      ]
     },
     "execution_count": 30,
     "metadata": {},
     "output_type": "execute_result"
    }
   ],
   "source": [
    "Counter.__base__"
   ]
  },
  {
   "cell_type": "code",
   "execution_count": 34,
   "id": "682a6e2a",
   "metadata": {},
   "outputs": [
    {
     "data": {
      "text/plain": [
       "Counter({'h': 1, 'e': 1, 'l': 3, 'o': 2, 'w': 1, 'r': 1, 'd': 1})"
      ]
     },
     "execution_count": 34,
     "metadata": {},
     "output_type": "execute_result"
    }
   ],
   "source": [
    "c = Counter('helloworld')\n",
    "c"
   ]
  },
  {
   "cell_type": "code",
   "execution_count": 36,
   "id": "e7bd2e7f",
   "metadata": {},
   "outputs": [
    {
     "name": "stdout",
     "output_type": "stream",
     "text": [
      "h\n",
      "e\n",
      "l\n",
      "l\n",
      "l\n",
      "o\n",
      "o\n",
      "w\n",
      "r\n",
      "d\n",
      "[('l', 3), ('o', 2)]\n"
     ]
    }
   ],
   "source": [
    "for ele in c.elements():\n",
    "    print(ele)\n",
    "    \n",
    "print(c.most_common(2))"
   ]
  },
  {
   "cell_type": "code",
   "execution_count": 38,
   "id": "eb1ef3d5",
   "metadata": {},
   "outputs": [
    {
     "name": "stdout",
     "output_type": "stream",
     "text": [
      "h 1\n",
      "e 1\n",
      "l 3\n",
      "o 2\n",
      "w 1\n",
      "r 1\n",
      "d 1\n"
     ]
    }
   ],
   "source": [
    "for item in c.items():\n",
    "    print(item[0], item[1])"
   ]
  },
  {
   "cell_type": "code",
   "execution_count": null,
   "id": "ed1f4f52",
   "metadata": {},
   "outputs": [],
   "source": []
  }
 ],
 "metadata": {
  "kernelspec": {
   "display_name": "Python 3 (ipykernel)",
   "language": "python",
   "name": "python3"
  },
  "language_info": {
   "codemirror_mode": {
    "name": "ipython",
    "version": 3
   },
   "file_extension": ".py",
   "mimetype": "text/x-python",
   "name": "python",
   "nbconvert_exporter": "python",
   "pygments_lexer": "ipython3",
   "version": "3.9.12"
  }
 },
 "nbformat": 4,
 "nbformat_minor": 5
}
