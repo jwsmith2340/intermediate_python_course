{
 "cells": [
  {
   "cell_type": "markdown",
   "id": "5e9e6323",
   "metadata": {},
   "source": [
    "### Containers\n",
    "- Data structure that holds elements\n",
    "- Supports membership tests (it can be asked whether it contains a certain element)\n",
    "- Operators 'in' and 'not in' can be used\n",
    "- string, list, tuple, set, dict"
   ]
  },
  {
   "cell_type": "code",
   "execution_count": 1,
   "id": "4bfe9d42",
   "metadata": {},
   "outputs": [
    {
     "data": {
      "text/plain": [
       "True"
      ]
     },
     "execution_count": 1,
     "metadata": {},
     "output_type": "execute_result"
    }
   ],
   "source": [
    "'p' in 'python'"
   ]
  },
  {
   "cell_type": "code",
   "execution_count": 2,
   "id": "12350340",
   "metadata": {},
   "outputs": [
    {
     "data": {
      "text/plain": [
       "False"
      ]
     },
     "execution_count": 2,
     "metadata": {},
     "output_type": "execute_result"
    }
   ],
   "source": [
    "'B' in 'python'"
   ]
  },
  {
   "cell_type": "code",
   "execution_count": 3,
   "id": "dc495508",
   "metadata": {},
   "outputs": [
    {
     "data": {
      "text/plain": [
       "True"
      ]
     },
     "execution_count": 3,
     "metadata": {},
     "output_type": "execute_result"
    }
   ],
   "source": [
    "'Like' in ('I', 'Like', 'Python')"
   ]
  },
  {
   "cell_type": "markdown",
   "id": "c0546936",
   "metadata": {},
   "source": [
    ">A string, by the definition, qualifies as a container, as do the other listed data structures"
   ]
  },
  {
   "cell_type": "markdown",
   "id": "cd3fee16",
   "metadata": {},
   "source": [
    "### Iterables\n",
    "- Any object that can return an iterator is iterable, and the iterable need not be a data structure\n",
    "- \\_\\_iter\\_\\_() returns the iterator\n",
    "- Any object which has the \\_\\_iter\\_\\_() method is iterable\n",
    "- Most containers **are** iterables\n",
    "- Files and sockets are iterables as well, even though they are **not** containers"
   ]
  },
  {
   "cell_type": "code",
   "execution_count": 4,
   "id": "5ced0122",
   "metadata": {},
   "outputs": [],
   "source": [
    "list1 = list(range(1,6))"
   ]
  },
  {
   "cell_type": "code",
   "execution_count": 5,
   "id": "88ac87c4",
   "metadata": {},
   "outputs": [
    {
     "name": "stdout",
     "output_type": "stream",
     "text": [
      "1, 2, 3, 4, 5, "
     ]
    }
   ],
   "source": [
    "# For loops internally use the iterator provided by the object in order to iterate\n",
    "for val in list1:\n",
    "    print(val, end=', ')"
   ]
  },
  {
   "cell_type": "code",
   "execution_count": 6,
   "id": "0da03e45",
   "metadata": {},
   "outputs": [
    {
     "data": {
      "text/plain": [
       "1"
      ]
     },
     "execution_count": 6,
     "metadata": {},
     "output_type": "execute_result"
    }
   ],
   "source": [
    "iter1 = list1.__iter__() # returns the iterator\n",
    "\n",
    "# So, how do we call it? now that we've instantiated the iterator?\n",
    "iter1.__next__()"
   ]
  },
  {
   "cell_type": "code",
   "execution_count": 7,
   "id": "7727bd6e",
   "metadata": {},
   "outputs": [
    {
     "name": "stdout",
     "output_type": "stream",
     "text": [
      "2\n",
      "3\n",
      "4\n",
      "5\n"
     ]
    }
   ],
   "source": [
    "# We see that the first time we called it, we got 1, and subsequent calls will get the next element\n",
    "print(iter1.__next__())\n",
    "print(iter1.__next__())\n",
    "print(iter1.__next__())\n",
    "print(iter1.__next__())"
   ]
  },
  {
   "cell_type": "code",
   "execution_count": 8,
   "id": "866f097c",
   "metadata": {},
   "outputs": [],
   "source": [
    "# Now, since we only had five elements, if we try to call one more, an error will be raised:\n",
    "# print(iter1.__next__()) # UNCOMMENT to see the error"
   ]
  },
  {
   "cell_type": "code",
   "execution_count": 9,
   "id": "ff379f11",
   "metadata": {},
   "outputs": [
    {
     "data": {
      "text/plain": [
       "1"
      ]
     },
     "execution_count": 9,
     "metadata": {},
     "output_type": "execute_result"
    }
   ],
   "source": [
    "# Another way to call the iterator from list1 by creating the iterator object\n",
    "iter2 = iter(list1)\n",
    "\n",
    "next(iter2)"
   ]
  },
  {
   "cell_type": "code",
   "execution_count": 10,
   "id": "84fac430",
   "metadata": {},
   "outputs": [
    {
     "name": "stdout",
     "output_type": "stream",
     "text": [
      "2\n",
      "3\n",
      "4\n",
      "5\n"
     ]
    }
   ],
   "source": [
    "# Just as above, executing this iterator, we will go through \n",
    "# every valid element, throwing an error if we extend past the limit\n",
    "print(next(iter2))\n",
    "print(next(iter2))\n",
    "print(next(iter2))\n",
    "print(next(iter2))"
   ]
  },
  {
   "cell_type": "code",
   "execution_count": 14,
   "id": "77b9cf53",
   "metadata": {},
   "outputs": [
    {
     "name": "stdout",
     "output_type": "stream",
     "text": [
      "1\n",
      "2\n",
      "3\n",
      "4\n",
      "5\n"
     ]
    }
   ],
   "source": [
    "# Assignment: Iterate using the iterator in a while loop:\n",
    "iter1 = list1.__iter__()\n",
    "\n",
    "try:\n",
    "    while True:\n",
    "        print(iter1.__next__())\n",
    "except StopIteration:\n",
    "    pass"
   ]
  },
  {
   "cell_type": "markdown",
   "id": "1db4018d",
   "metadata": {},
   "source": [
    "### Generators\n",
    "- A generator allows us to write code which behaves like an iterator but without having methods \\_\\_iter\\_\\_() and \\_\\_next\\_\\_()\n",
    "- Every generator is an iterator\n",
    "- There are two types of generators; generator functions and generator expressions."
   ]
  },
  {
   "cell_type": "code",
   "execution_count": 15,
   "id": "607ae456",
   "metadata": {},
   "outputs": [],
   "source": [
    "# yield is the generator keyword \n",
    "def simple_generator():\n",
    "    yield 1\n",
    "    yield 'Python'\n",
    "    yield 3.1415"
   ]
  },
  {
   "cell_type": "code",
   "execution_count": 16,
   "id": "72fe99fc",
   "metadata": {},
   "outputs": [
    {
     "name": "stdout",
     "output_type": "stream",
     "text": [
      "1\n",
      "Python\n",
      "3.1415\n"
     ]
    }
   ],
   "source": [
    "for value in simple_generator():\n",
    "    print(value)"
   ]
  },
  {
   "cell_type": "markdown",
   "id": "0f7cebed",
   "metadata": {},
   "source": [
    ">This is a simple example of a generator. Remember, every generator behaves as an iterator.\n",
    ">\n",
    ">Next, we can see how a generator does something a little more advanced.\n",
    ">#### Write a generator function which generates a specified number of odd numbers from the provided start value:"
   ]
  },
  {
   "cell_type": "code",
   "execution_count": 20,
   "id": "5281010e",
   "metadata": {},
   "outputs": [
    {
     "name": "stdout",
     "output_type": "stream",
     "text": [
      "11\n",
      "13\n",
      "15\n",
      "17\n",
      "19\n"
     ]
    }
   ],
   "source": [
    "def odd_generator(start, how_many):\n",
    "    count = 0\n",
    "    while count < how_many:\n",
    "        if start % 2 != 0:\n",
    "            count += 1\n",
    "            yield start\n",
    "        start += 1\n",
    "\n",
    "for val in odd_generator(10, 5):\n",
    "    print(val)"
   ]
  },
  {
   "cell_type": "markdown",
   "id": "af383a3a",
   "metadata": {},
   "source": [
    ">The magic of generator functions takes place at the **yield** keyword. The generator remembers the last value returned via yield, and it picks back up from there. "
   ]
  },
  {
   "cell_type": "markdown",
   "id": "73f1f1de",
   "metadata": {},
   "source": [
    "### Generator Expression"
   ]
  },
  {
   "cell_type": "code",
   "execution_count": 31,
   "id": "12278a2d",
   "metadata": {},
   "outputs": [
    {
     "data": {
      "text/plain": [
       "generator"
      ]
     },
     "execution_count": 31,
     "metadata": {},
     "output_type": "execute_result"
    }
   ],
   "source": [
    "# Another way to create a generator expression can be seen here:\n",
    "expression1 = (num * num for num in range(1,11))\n",
    "type(expression1)"
   ]
  },
  {
   "cell_type": "code",
   "execution_count": 32,
   "id": "fa068791",
   "metadata": {},
   "outputs": [
    {
     "name": "stdout",
     "output_type": "stream",
     "text": [
      "1\n",
      "4\n",
      "9\n",
      "16\n",
      "25\n",
      "36\n",
      "49\n",
      "64\n",
      "81\n",
      "100\n"
     ]
    }
   ],
   "source": [
    "# Because this is a generator, and we KNOW that all generators can act\n",
    "# as iterators, we can iterate through the values in it:\n",
    "for val in expression1:\n",
    "    print(val)"
   ]
  },
  {
   "cell_type": "code",
   "execution_count": null,
   "id": "de735a2e",
   "metadata": {},
   "outputs": [],
   "source": []
  }
 ],
 "metadata": {
  "kernelspec": {
   "display_name": "Python 3 (ipykernel)",
   "language": "python",
   "name": "python3"
  },
  "language_info": {
   "codemirror_mode": {
    "name": "ipython",
    "version": 3
   },
   "file_extension": ".py",
   "mimetype": "text/x-python",
   "name": "python",
   "nbconvert_exporter": "python",
   "pygments_lexer": "ipython3",
   "version": "3.10.4"
  }
 },
 "nbformat": 4,
 "nbformat_minor": 5
}
