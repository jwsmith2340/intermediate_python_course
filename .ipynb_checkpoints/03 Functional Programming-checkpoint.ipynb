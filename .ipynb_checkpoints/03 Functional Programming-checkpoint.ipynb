{
 "cells": [
  {
   "cell_type": "markdown",
   "id": "a73e0808",
   "metadata": {},
   "source": [
    "# Functional Programming\n",
    "---"
   ]
  },
  {
   "cell_type": "markdown",
   "id": "8364c347",
   "metadata": {},
   "source": [
    "### Python Functions\n",
    "- Functions are \"first class\" objects, i.e. they can be created at run time\n",
    "- They can be assigned to a variable\n",
    "- Can be passed as an arg to a function\n",
    "- Can be returned from a function"
   ]
  },
  {
   "cell_type": "code",
   "execution_count": 1,
   "id": "ceb0bd31",
   "metadata": {},
   "outputs": [],
   "source": [
    "def say_hello(s):\n",
    "    return f\"Hello {s}\"\n",
    "\n",
    "def print_result(func, a):\n",
    "    result = func(a)\n",
    "    print(result)\n",
    "\n",
    "print_result(say_hello, \"Jimmy\")"
   ]
  },
  {
   "cell_type": "markdown",
   "id": "5d16a587",
   "metadata": {},
   "source": [
    "### Lambda Functions\n",
    "- Lambda keyword creates an anonymous function\n",
    "- Lambda can accept parameters\n",
    "- Body is made of an expression (only one statement)\n",
    "- Will return the result of the expression evaluation"
   ]
  },
  {
   "cell_type": "code",
   "execution_count": 2,
   "id": "62cca7d7",
   "metadata": {},
   "outputs": [],
   "source": [
    "# This is a good candidate for a Lambda function, as there is only one expression\n",
    "def sqr(n):\n",
    "    return n**2"
   ]
  },
  {
   "cell_type": "code",
   "execution_count": 3,
   "id": "d6a5804b",
   "metadata": {},
   "outputs": [],
   "source": [
    "# So, how do we actually make a Lambda expression?\n",
    "lambda n : n * n"
   ]
  },
  {
   "cell_type": "code",
   "execution_count": 4,
   "id": "a3052c1b",
   "metadata": {},
   "outputs": [],
   "source": [
    "# That's great, but how do we actually use it? With the following syntax:\n",
    "(lambda n : n * n)(10)"
   ]
  },
  {
   "cell_type": "markdown",
   "id": "ab87e390",
   "metadata": {},
   "source": [
    ">The problem with Lambda functions is it can only be invoked where it was created. There is no way to invoke it from this block or anywhere else. This is an in-line function, or an anonymous function. It can only be used where it is instantiated.\n",
    "\n",
    ">BUT, Python functions can be assigned to variables. So, in Python, we can actually assign the lambda expression to a variable so it can be reused. Let's see how that's done."
   ]
  },
  {
   "cell_type": "code",
   "execution_count": 5,
   "id": "ebb32618",
   "metadata": {},
   "outputs": [],
   "source": [
    "lambda_var = lambda n : n + n"
   ]
  },
  {
   "cell_type": "code",
   "execution_count": 6,
   "id": "5336cfe3",
   "metadata": {},
   "outputs": [],
   "source": [
    "lambda_var(5)"
   ]
  },
  {
   "cell_type": "code",
   "execution_count": 7,
   "id": "16208235",
   "metadata": {},
   "outputs": [],
   "source": [
    "lambda_var(25)"
   ]
  },
  {
   "cell_type": "code",
   "execution_count": 8,
   "id": "f9e78d16",
   "metadata": {},
   "outputs": [],
   "source": [
    "# We can also make lambda expressions that take multiple variables\n",
    "lambda_add = lambda x,y : x + y\n",
    "\n",
    "lambda_add(3, 8)"
   ]
  },
  {
   "cell_type": "code",
   "execution_count": 9,
   "id": "56eec49b",
   "metadata": {},
   "outputs": [],
   "source": [
    "# And what about any number of values being passed?\n",
    "lambda_args = lambda *args : sum(args)\n",
    "\n",
    "lambda_args(1,4,8)"
   ]
  },
  {
   "cell_type": "code",
   "execution_count": 10,
   "id": "d017f97a",
   "metadata": {},
   "outputs": [],
   "source": [
    "# How could we create a list of elements that are the squared value of each value in list1?\n",
    "list1 = [1,2,3,4,5,6,7,8,9,10]\n",
    "list2 = []\n",
    "\n",
    "list_lambda = lambda list_val : list_val ** 2\n",
    "\n",
    "for idx, val in enumerate(list1):\n",
    "    list2.append(list_lambda(val))\n",
    "\n",
    "list2"
   ]
  },
  {
   "cell_type": "code",
   "execution_count": 11,
   "id": "5c2caad3",
   "metadata": {},
   "outputs": [],
   "source": [
    "# That's a bit tedious though, isn't it? We can use list comprehension to solve this instead\n",
    "\n",
    "list1 = [1,2,3,4,5,6,7,8,9,10]\n",
    "list2 = [val**2 for val in list1]\n",
    "\n",
    "list2"
   ]
  },
  {
   "cell_type": "markdown",
   "id": "1035118e",
   "metadata": {},
   "source": [
    "### Higher-Order Functions\n",
    "- A function that takes another function as an argument\n",
    "- map()\n",
    "- reduce()\n",
    "- fileter()"
   ]
  },
  {
   "cell_type": "markdown",
   "id": "56a62f10",
   "metadata": {},
   "source": [
    "#### map()\n",
    "- Purpose of map() is to apply transofrmation to the input element\n",
    "- Map takes a function as the first argument and the iterables as the second argument\n",
    "- The function is invoked for each element of the interable and retruns the transformed value as the new sequence\n",
    "- map(function, iterable_object)\n",
    "- The number of output elements is the same as the number of input elements"
   ]
  },
  {
   "cell_type": "code",
   "execution_count": 12,
   "id": "0ea8c043",
   "metadata": {},
   "outputs": [],
   "source": [
    "# Create a list of elements 1 - 10\n",
    "list1 = [ele for ele in range(1,11)]\n",
    "print(list1)\n",
    "\n",
    "list1 = list(range(1,11))\n",
    "print(list1)"
   ]
  },
  {
   "cell_type": "code",
   "execution_count": 13,
   "id": "858f69e2",
   "metadata": {},
   "outputs": [],
   "source": [
    "# Here, the list_lambda function is the first parameter, and our 1-10 list is the second\n",
    "list2 = list(map(list_lambda, list1))\n",
    "print(list2)"
   ]
  },
  {
   "cell_type": "code",
   "execution_count": 14,
   "id": "864fbb18",
   "metadata": {},
   "outputs": [],
   "source": [
    "# You can also pass in lambda functions directly in map without needing to name them\n",
    "tuple1 = tuple(map(lambda x : x * 2, (1,2,3,4,5)))\n",
    "print(tuple1)"
   ]
  },
  {
   "cell_type": "code",
   "execution_count": 15,
   "id": "8739035c",
   "metadata": {},
   "outputs": [],
   "source": [
    "# What if you try to pass in multiple variables?\n",
    "num1 = [1,2,3]\n",
    "num2 = [1,2,3]\n",
    "tuple2 = list(map(lambda x, y : x + y, num1, num2))\n",
    "\n",
    "print(tuple2)"
   ]
  },
  {
   "cell_type": "markdown",
   "id": "8009eeb4",
   "metadata": {},
   "source": [
    "### reduce()\n",
    "- Produces a single result from a sequence of any number of items of input\n",
    "- Part of a module called **functools**"
   ]
  },
  {
   "cell_type": "code",
   "execution_count": 16,
   "id": "6dd18e47",
   "metadata": {},
   "outputs": [],
   "source": [
    "from functools import reduce"
   ]
  },
  {
   "cell_type": "code",
   "execution_count": 17,
   "id": "9c1b8a66",
   "metadata": {},
   "outputs": [],
   "source": [
    "add = lambda a,b : a + b\n",
    "\n",
    "list1 = list(range(1,6))\n",
    "\n",
    "result = reduce(add, list1)\n",
    "\n",
    "print(result)"
   ]
  },
  {
   "cell_type": "markdown",
   "id": "b1dd00d2",
   "metadata": {},
   "source": [
    ">Regardless of the number of input elements, reduce always reduces to one value\n",
    "But, how did this happen? We passed a list of 5 elements, and add only operates on two elements, so what happened?\n",
    ">- 1 + 2 = 3\n",
    ">- 3 + 3 = 6\n",
    ">- 6 + 4 = 10\n",
    ">- 10 + 5 = 15\n",
    "\n",
    ">That is how reduce worked through the list and reduced it to a single value"
   ]
  },
  {
   "cell_type": "code",
   "execution_count": 18,
   "id": "68fd0878",
   "metadata": {},
   "outputs": [],
   "source": [
    "# How could we find the greatest element from this list by using reduce?\n",
    "list1 = [7,11,9,13,5,15,1]\n",
    "\n",
    "print(reduce(lambda a,b : max(a,b), list1))\n",
    "\n",
    "# We can also write our own max function here\n",
    "def max_return(a,b):\n",
    "    if a > b:\n",
    "        return a\n",
    "    return b\n",
    "\n",
    "print(reduce(max_return, list1))"
   ]
  },
  {
   "cell_type": "code",
   "execution_count": 19,
   "id": "4c67079c",
   "metadata": {},
   "outputs": [],
   "source": [
    "# How could we write a lambda function that returns min instead of having to create and entire function?\n",
    "smallest = lambda a,b : a if a < b else b\n",
    "\n",
    "print(reduce(smallest, list1))"
   ]
  },
  {
   "cell_type": "markdown",
   "id": "06b0db87",
   "metadata": {},
   "source": [
    "### filter()\n",
    "- The function we use for filter should always return a boolean value\n",
    "- Applies the function to the elements of the second argument (sequence)\n",
    "- Returns elements for which function returns True\n",
    "- map() and reduce() transform, whereas filter() selectively picks items"
   ]
  },
  {
   "cell_type": "code",
   "execution_count": 20,
   "id": "687ba622",
   "metadata": {},
   "outputs": [],
   "source": [
    "is_even = lambda x : x % 2 == 0\n",
    "\n",
    "list1 = [4,2,1,12,5,8,36,11,20]\n",
    "\n",
    "list(filter(is_even, list1))"
   ]
  },
  {
   "cell_type": "code",
   "execution_count": 21,
   "id": "49674644",
   "metadata": {},
   "outputs": [],
   "source": [
    "# Assignemnt: Return true if a char is a vowel\n",
    "vowels = {'a','e','i','o','u'}\n",
    "\n",
    "is_vowel = lambda c : c.lower() in vowels\n",
    "\n",
    "s = 'It is a beautiful day out there'\n",
    "\n",
    "list(filter(is_vowel, s))"
   ]
  },
  {
   "cell_type": "code",
   "execution_count": 22,
   "id": "d4f3cc6b",
   "metadata": {},
   "outputs": [],
   "source": [
    "# Assignment: Return true if a char is as vowel\n",
    "is_digit = lambda c : c.isdigit()\n",
    "\n",
    "s = 'Py20th23on'\n",
    "\n",
    "list(filter(is_digit, s))"
   ]
  },
  {
   "cell_type": "markdown",
   "id": "33bfc9a3",
   "metadata": {},
   "source": [
    "### Operator Module\n",
    "- From the **operator** module\n",
    "- Includes many useful operators, such as add, mul, lt, gt"
   ]
  },
  {
   "cell_type": "code",
   "execution_count": 23,
   "id": "1a98fc91",
   "metadata": {},
   "outputs": [],
   "source": [
    "from operator import add, mul\n",
    "\n",
    "reduce(add, (1,2,3))"
   ]
  },
  {
   "cell_type": "code",
   "execution_count": 24,
   "id": "0d05c6b7",
   "metadata": {},
   "outputs": [],
   "source": [
    "reduce(mul, (1,2,3,4))"
   ]
  },
  {
   "cell_type": "code",
   "execution_count": 25,
   "id": "71dd4e66",
   "metadata": {},
   "outputs": [],
   "source": [
    "from operator import lt, gt\n",
    "\n",
    "print(reduce(lt, (11,5)))\n",
    "print(reduce(gt, (11,5)))\n",
    "\n",
    "# Is 11 < 5? False\n",
    "# Is 11 > 5? True"
   ]
  }
 ],
 "metadata": {
  "kernelspec": {
   "display_name": "Python 3 (ipykernel)",
   "language": "python",
   "name": "python3"
  },
  "language_info": {
   "codemirror_mode": {
    "name": "ipython",
    "version": 3
   },
   "file_extension": ".py",
   "mimetype": "text/x-python",
   "name": "python",
   "nbconvert_exporter": "python",
   "pygments_lexer": "ipython3",
   "version": "3.10.4"
  }
 },
 "nbformat": 4,
 "nbformat_minor": 5
}
