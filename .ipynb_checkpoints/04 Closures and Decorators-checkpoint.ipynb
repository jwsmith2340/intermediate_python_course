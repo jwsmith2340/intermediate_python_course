{
 "cells": [
  {
   "cell_type": "markdown",
   "id": "9d6410d4",
   "metadata": {},
   "source": [
    "#### Python Scoping Rules\n",
    "- Order of precedence is **LEGB**\n",
    "- L: Local - Declared inside a function as a local variable\n",
    "- E: Enclosed - Declared in the outer function (Outer and inner functions)\n",
    "- G: Global - Delcared at the uppermost layer, visible anywhere within the script\n",
    "- B: Built-in - Declarations which are part of the core Python library\n",
    "\n",
    ">This is the search order for all variables in Python; It first begins looking locally, then in the enclosed area, then in the global scope, then in the built-ins. "
   ]
  },
  {
   "cell_type": "code",
   "execution_count": 1,
   "id": "26919f93",
   "metadata": {},
   "outputs": [
    {
     "name": "stdout",
     "output_type": "stream",
     "text": [
      "c:  100\n",
      "b:  20\n",
      "a:  1\n"
     ]
    }
   ],
   "source": [
    "a = 1\n",
    "b = 2\n",
    "c = 3\n",
    "\n",
    "def outer_func():\n",
    "    b = 20\n",
    "    c = 30\n",
    "    \n",
    "    def inner_func():\n",
    "        c = 100\n",
    "        print('c: ', c) # Local\n",
    "        print('b: ', b) # Encosed\n",
    "        print('a: ', a) # Global\n",
    "    \n",
    "    inner_func()\n",
    "\n",
    "outer_func()"
   ]
  },
  {
   "cell_type": "markdown",
   "id": "dc5c0fa7",
   "metadata": {},
   "source": [
    "## Closures\n",
    "- A function that remembers values from the enclosing scope, even when the flow is no longer in the enclosing scope"
   ]
  },
  {
   "cell_type": "code",
   "execution_count": 2,
   "id": "3f7da9cf",
   "metadata": {},
   "outputs": [],
   "source": [
    "def outer_func(x):\n",
    "    def inner_func(y):\n",
    "        print(x + y)\n",
    "\n",
    "    return inner_func"
   ]
  },
  {
   "cell_type": "code",
   "execution_count": 3,
   "id": "91c92cfd",
   "metadata": {},
   "outputs": [
    {
     "name": "stdout",
     "output_type": "stream",
     "text": [
      "30\n"
     ]
    }
   ],
   "source": [
    "# When we call the outer function, it returns the inner function\n",
    "inner1 = outer_func(10)\n",
    "\n",
    "inner1(20)"
   ]
  },
  {
   "cell_type": "markdown",
   "id": "0fa5ce31",
   "metadata": {},
   "source": [
    ">That is pretty cool. What is happening here is that we are calling the enclosing function, outer_func, with the value 10. The inner_func is being returned, but now, when we supply inner_func with a value when it is called, **closure** allows the function to remember the value from the enclosing scope. \n",
    ">\n",
    ">The value of x is fixed. We can continue calling the inner_function with new values, but the x value is now set in the enclosing function. "
   ]
  },
  {
   "cell_type": "code",
   "execution_count": 4,
   "id": "bf5036bf",
   "metadata": {},
   "outputs": [
    {
     "name": "stdout",
     "output_type": "stream",
     "text": [
      "40\n",
      "50\n",
      "60\n"
     ]
    }
   ],
   "source": [
    "inner1(30)\n",
    "inner1(40)\n",
    "inner1(50)"
   ]
  },
  {
   "cell_type": "markdown",
   "id": "789cc7b2",
   "metadata": {},
   "source": [
    ">In plain English, we are calling the outer function to gain access to the inner function. The value from the outer function is remembered."
   ]
  },
  {
   "cell_type": "markdown",
   "id": "e5efe608",
   "metadata": {},
   "source": [
    "### Decorators\n",
    "- Denoted with an @ symbol\n",
    "- There are built-in decorators, and we can create new ones as well\n",
    "- The concept of decorators is built off of closures, and all decorators **are** closures, but not all closures are decorators\n",
    "- These are wrapper functions that are built on top of the closure function\n",
    "- They can be used to write pre or post or both actions to a function\n",
    "- They can pass positional arguments (\\*args)\n",
    "- Then can pass keyword arguments (\\*\\*kwargs)\n",
    "- Outer function has a parameter which is the function to be decorated (target function)\n",
    "- Inner function accepts the same parameters as that of the target function"
   ]
  },
  {
   "cell_type": "markdown",
   "id": "5c4dbb8d",
   "metadata": {},
   "source": [
    "### Closure vs Decorator\n",
    "- Deocrator should accept a function as a parameter (no such requirement in closures)\n",
    "- Inner function accepts the same parameters as that of the target function (no such requirement in closures)\n",
    "- All decorators are closures, but the opposite is not always true"
   ]
  },
  {
   "cell_type": "code",
   "execution_count": 5,
   "id": "eed113ad",
   "metadata": {},
   "outputs": [
    {
     "name": "stdout",
     "output_type": "stream",
     "text": [
      "Number is 4\n"
     ]
    }
   ],
   "source": [
    "# Demo is the TARGET function\n",
    "def demo(num):\n",
    "    print(f'Number is {num}')\n",
    "\n",
    "demo(4)"
   ]
  },
  {
   "cell_type": "code",
   "execution_count": 6,
   "id": "49de1ca5",
   "metadata": {},
   "outputs": [],
   "source": [
    "# The inner function should have the same number of parameters as the TARGET function above\n",
    "def isPositive(target_function):\n",
    "    def inner_function(num):\n",
    "        if num >= 0:\n",
    "            result = target_function(num)\n",
    "            return result\n",
    "        else:\n",
    "            print(\"WARNING: Negative numbers are prohibited\")\n",
    "    return inner_function"
   ]
  },
  {
   "cell_type": "code",
   "execution_count": 7,
   "id": "610bf6f7",
   "metadata": {},
   "outputs": [
    {
     "name": "stdout",
     "output_type": "stream",
     "text": [
      "Number is 10\n"
     ]
    }
   ],
   "source": [
    "# The passed TARGET function is demo. So, we are calling isPositive, but we are passing the demo() function\n",
    "inner = isPositive(demo)\n",
    "inner(10)"
   ]
  },
  {
   "cell_type": "code",
   "execution_count": 8,
   "id": "2aa98bda",
   "metadata": {},
   "outputs": [
    {
     "name": "stdout",
     "output_type": "stream",
     "text": [
      "WARNING: Negative numbers are prohibited\n"
     ]
    }
   ],
   "source": [
    "inner(-3)"
   ]
  },
  {
   "cell_type": "markdown",
   "id": "bc1c493d",
   "metadata": {},
   "source": [
    ">So, where is the decorator concept actually used?"
   ]
  },
  {
   "cell_type": "code",
   "execution_count": 9,
   "id": "9e2a683c",
   "metadata": {},
   "outputs": [],
   "source": [
    "# Now, this is the actual decorator. Instead of having to call inner = isPositive(demo) and building from there, \n",
    "# we can just call the demo function directly with the @functionName decorator\n",
    "@isPositive\n",
    "def new_demo(num):\n",
    "    print(f\"Number is {num}\")"
   ]
  },
  {
   "cell_type": "code",
   "execution_count": 10,
   "id": "a7bd0058",
   "metadata": {},
   "outputs": [
    {
     "name": "stdout",
     "output_type": "stream",
     "text": [
      "WARNING: Negative numbers are prohibited\n"
     ]
    }
   ],
   "source": [
    "new_demo(-3)"
   ]
  },
  {
   "cell_type": "code",
   "execution_count": 11,
   "id": "9bd51aee",
   "metadata": {},
   "outputs": [
    {
     "name": "stdout",
     "output_type": "stream",
     "text": [
      "Number is 3\n"
     ]
    }
   ],
   "source": [
    "new_demo(3)"
   ]
  },
  {
   "cell_type": "markdown",
   "id": "f5f63cc3",
   "metadata": {},
   "source": [
    ">What is happening here is that when the new funciton new_demo is decorated, we are actually calling the INNER function first. That inner function is then calling our new_demo with the provided value, since our target function is ultimately what is being called. A bit abstracted, but very neat.\n",
    ">\n",
    ">Essentially, the @isPositive is equivalent to **inner = isPositive(demo)**\n",
    ">\n",
    ">**EITHER ONE** of these are valid ways of writing decorators, they are both useable in this state. "
   ]
  },
  {
   "cell_type": "code",
   "execution_count": null,
   "id": "4e7aa7a5",
   "metadata": {},
   "outputs": [],
   "source": []
  }
 ],
 "metadata": {
  "kernelspec": {
   "display_name": "Python 3 (ipykernel)",
   "language": "python",
   "name": "python3"
  },
  "language_info": {
   "codemirror_mode": {
    "name": "ipython",
    "version": 3
   },
   "file_extension": ".py",
   "mimetype": "text/x-python",
   "name": "python",
   "nbconvert_exporter": "python",
   "pygments_lexer": "ipython3",
   "version": "3.10.4"
  }
 },
 "nbformat": 4,
 "nbformat_minor": 5
}
