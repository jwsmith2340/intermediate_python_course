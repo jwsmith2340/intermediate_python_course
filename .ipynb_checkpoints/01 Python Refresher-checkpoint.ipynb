{
 "cells": [
  {
   "cell_type": "markdown",
   "id": "0a24d233",
   "metadata": {},
   "source": [
    "# Intermediate Python\n",
    "---\n",
    "## Python Language Review"
   ]
  },
  {
   "cell_type": "code",
   "execution_count": 1,
   "id": "36ebdc07",
   "metadata": {},
   "outputs": [],
   "source": [
    "def add_sum(x,y):\n",
    "    return x + y"
   ]
  },
  {
   "cell_type": "markdown",
   "id": "924af303",
   "metadata": {},
   "source": [
    ">To add a variable number of arguments with a minimum number in a function, you can set your required variables (x and y here) as well as the \\*args concept. This allows for a variable number of arguments to be passed into your function after the first two required variables have been declared.\n",
    "\n",
    ">\\*args are passed as a tuple and are iterable."
   ]
  },
  {
   "cell_type": "code",
   "execution_count": 2,
   "id": "f46be85e",
   "metadata": {},
   "outputs": [],
   "source": [
    "def add_sums(x, y, *args):\n",
    "    sum = 0\n",
    "    for num in args:\n",
    "        sum += num\n",
    "    return x + y + sum"
   ]
  },
  {
   "cell_type": "code",
   "execution_count": 3,
   "id": "0eef6721",
   "metadata": {},
   "outputs": [
    {
     "name": "stdout",
     "output_type": "stream",
     "text": [
      "10\n"
     ]
    }
   ],
   "source": [
    "print(add_sums(1,2,3,4))"
   ]
  },
  {
   "cell_type": "markdown",
   "id": "01f45b9a",
   "metadata": {},
   "source": [
    ">\\*\\*kwargs are key word arguments in Python functions. "
   ]
  },
  {
   "cell_type": "code",
   "execution_count": 4,
   "id": "31a247c7",
   "metadata": {},
   "outputs": [],
   "source": [
    "def kwargs_demo(**kwargs):\n",
    "    for key, value in kwargs.items():\n",
    "        print(f\"Key: {key} | Value: {value}\")"
   ]
  },
  {
   "cell_type": "code",
   "execution_count": 5,
   "id": "5aef7f2d",
   "metadata": {},
   "outputs": [
    {
     "name": "stdout",
     "output_type": "stream",
     "text": [
      "Key: x | Value: 1\n",
      "Key: y | Value: 2\n",
      "Key: z | Value: 3\n"
     ]
    }
   ],
   "source": [
    "kwargs_demo(x = 1, y = 2, z = 3)"
   ]
  },
  {
   "cell_type": "markdown",
   "id": "5db1eeba",
   "metadata": {},
   "source": [
    ">Dictionaries can also be passed into functions that take kwargs by utilizing the ** decorator in the argument."
   ]
  },
  {
   "cell_type": "code",
   "execution_count": 6,
   "id": "21186adf",
   "metadata": {
    "scrolled": true
   },
   "outputs": [
    {
     "name": "stdout",
     "output_type": "stream",
     "text": [
      "Key: a | Value: 1\n",
      "Key: b | Value: 2\n",
      "Key: c | Value: 3\n"
     ]
    }
   ],
   "source": [
    "kwargs_dict = {\n",
    "    'a':'1',\n",
    "    'b':'2',\n",
    "    'c':'3'\n",
    "}\n",
    "kwargs_demo(**kwargs_dict)"
   ]
  },
  {
   "cell_type": "markdown",
   "id": "fe41460e",
   "metadata": {},
   "source": [
    "### Scope"
   ]
  },
  {
   "cell_type": "markdown",
   "id": "e1137e46",
   "metadata": {},
   "source": [
    ">You can use a semi-colon in Python as a **separator**, it does **not** act as a terminator, like in Java.\n",
    "\n",
    ">This can be seen in action in the case of creating a global variable within a function, something that would normally be a local variable. If not for the semi-colon, this would have to be used on two separate lines."
   ]
  },
  {
   "cell_type": "code",
   "execution_count": 7,
   "id": "b94ae320",
   "metadata": {},
   "outputs": [
    {
     "name": "stdout",
     "output_type": "stream",
     "text": [
      "20\n"
     ]
    }
   ],
   "source": [
    "def local_global():\n",
    "    global x_global; x_global = 20\n",
    "\n",
    "local_global()\n",
    "print(x_global)"
   ]
  },
  {
   "cell_type": "markdown",
   "id": "64914c42",
   "metadata": {},
   "source": [
    ">There are built-in functions in Python called **locals()** and **globals()**. These return all local and all global variables, respectively.\n",
    "\n",
    ">Both return a **dictionary**, so we are accessing using the dict method **get()**, which we know returns a value if the key is found, and returns a default value if it is not. "
   ]
  },
  {
   "cell_type": "code",
   "execution_count": 8,
   "id": "1ceeb28a",
   "metadata": {},
   "outputs": [
    {
     "name": "stdout",
     "output_type": "stream",
     "text": [
      "20\n",
      "not_real does not exist, and this is the default\n",
      "20\n",
      "None\n"
     ]
    }
   ],
   "source": [
    "print(globals().get('x_global', 'x_global is not defined, and this is the default'))\n",
    "print(globals().get('not_real', 'not_real does not exist, and this is the default'))\n",
    "\n",
    "def local_test():\n",
    "    local_x = 20\n",
    "    return locals().get('local_x', None)\n",
    "\n",
    "def delete_local_test():\n",
    "    local_x = 30\n",
    "    # del can be used to clear a variable\n",
    "    del local_x\n",
    "    return locals().get('local_x', None)\n",
    "\n",
    "print(local_test())\n",
    "print(delete_local_test())"
   ]
  },
  {
   "cell_type": "markdown",
   "id": "f199fd39",
   "metadata": {},
   "source": [
    "### Jupyter Magic Functions"
   ]
  },
  {
   "cell_type": "markdown",
   "id": "907de282",
   "metadata": {},
   "source": [
    ">In Jupyter, there is a concept of **Magic Functions**. For example, by using the %% decorator, we are calling a magic function writefile. This will allow us to write a Python text file by using the Notebook, which has advanced functionality over a plain text editor in Jupyter. "
   ]
  },
  {
   "cell_type": "code",
   "execution_count": 9,
   "id": "7323542d",
   "metadata": {},
   "outputs": [
    {
     "name": "stdout",
     "output_type": "stream",
     "text": [
      "Overwriting hello.py\n"
     ]
    }
   ],
   "source": [
    "%%writefile hello.py\n",
    "def say_hello(name):\n",
    "    print(f\"Hello there {name}\")"
   ]
  },
  {
   "cell_type": "markdown",
   "id": "332c72e6",
   "metadata": {},
   "source": [
    ">Now that we've created a new file, we can import the module for use"
   ]
  },
  {
   "cell_type": "code",
   "execution_count": 10,
   "id": "d837f1ee",
   "metadata": {},
   "outputs": [
    {
     "name": "stdout",
     "output_type": "stream",
     "text": [
      "Hello there Jimmy\n"
     ]
    }
   ],
   "source": [
    "import hello\n",
    "\n",
    "hello.say_hello(\"Jimmy\")"
   ]
  },
  {
   "cell_type": "markdown",
   "id": "da0b64cf",
   "metadata": {},
   "source": [
    ">Of course, we can also import specific functions from our modules."
   ]
  },
  {
   "cell_type": "code",
   "execution_count": 11,
   "id": "a484b64b",
   "metadata": {},
   "outputs": [
    {
     "name": "stdout",
     "output_type": "stream",
     "text": [
      "Hello there Jim\n"
     ]
    }
   ],
   "source": [
    "from hello import say_hello\n",
    "\n",
    "say_hello(\"Jim\")"
   ]
  },
  {
   "cell_type": "markdown",
   "id": "d8b9e079",
   "metadata": {},
   "source": [
    ">Finally, we can add an alias here as well to make things even easier to read."
   ]
  },
  {
   "cell_type": "code",
   "execution_count": 12,
   "id": "e00f428e",
   "metadata": {},
   "outputs": [
    {
     "name": "stdout",
     "output_type": "stream",
     "text": [
      "Hello there James\n"
     ]
    }
   ],
   "source": [
    "from hello import say_hello as s\n",
    "\n",
    "s(\"James\")"
   ]
  },
  {
   "cell_type": "markdown",
   "id": "0f49358a",
   "metadata": {},
   "source": [
    "### Mutable and Immutable Types\n",
    "\n",
    "- **Immutable**: int, float, bool, str, tuple, frozen set\n",
    "- **Mutable**: list, dict, set"
   ]
  },
  {
   "cell_type": "markdown",
   "id": "323ba9e4",
   "metadata": {},
   "source": [
    "### Lists in Python\n",
    "- Ordered\n",
    "- Mutable\n",
    "- Can have mixed types of elements\n",
    "- Can be sliced\n",
    "- Built in methods; append(), insert(), remove(), extend(), pop(), reverse(), sort()\n",
    "- \\[ \\] creates an empty list"
   ]
  },
  {
   "cell_type": "code",
   "execution_count": 13,
   "id": "d0a0e6e0",
   "metadata": {},
   "outputs": [
    {
     "name": "stdout",
     "output_type": "stream",
     "text": [
      "1\n",
      "3.1415\n",
      "_______________________________________________\n",
      "\n",
      "1\n",
      "3.1415\n",
      "False\n"
     ]
    }
   ],
   "source": [
    "list1 = [1,3.1415, False, 'Python', (10,20,30)]\n",
    "\n",
    "# Assignment: Print only numbers from the list\n",
    "for val in list1:\n",
    "    if type(val) in (int, float):\n",
    "        print(val)\n",
    "\n",
    "print(\"_______________________________________________\\n\")\n",
    "\n",
    "# We can also use instance as well\n",
    "for val in list1:\n",
    "    if isinstance(val, int) or isinstance(val, float):\n",
    "        print(val)\n",
    "\n",
    "# In Python, a boolean value is actually represented as an integer, \n",
    "# which is why isinstance is returning False for the boolean in list1"
   ]
  },
  {
   "cell_type": "code",
   "execution_count": 14,
   "id": "82211537",
   "metadata": {},
   "outputs": [
    {
     "name": "stdout",
     "output_type": "stream",
     "text": [
      "[3, 5, 7, 11, 13, 17, 19]\n"
     ]
    }
   ],
   "source": [
    "# Assignment 2: Remove the 0th, 4th, and 7th element from the list\n",
    "list1 = [1,3,5,7,9,11,13,15,17,19]\n",
    "\n",
    "ele_list = [4,0,7]\n",
    "ele_list.sort(reverse = True)\n",
    "\n",
    "for val in ele_list:\n",
    "    list1.pop(val)\n",
    "\n",
    "print(list1)"
   ]
  },
  {
   "cell_type": "markdown",
   "id": "f83520f2",
   "metadata": {},
   "source": [
    "### Tuples in Python\n",
    "- Ordered (indices)\n",
    "- Immutable\n",
    "- Mixed types of elements\n",
    "- Can be sliced\n",
    "- Denoted with ()"
   ]
  },
  {
   "cell_type": "code",
   "execution_count": 15,
   "id": "06ecb638",
   "metadata": {},
   "outputs": [],
   "source": [
    "tuple1 = (1, 3, 5, (7, 9, 11))"
   ]
  },
  {
   "cell_type": "markdown",
   "id": "58a5f478",
   "metadata": {},
   "source": [
    "#### Flattening a tuple\n",
    "\n",
    ">Tuples are immutable, so if we want to 'flatten' this tuple so it reads (1,3,5,7,9,11), how can we do this?\n",
    "\n",
    ">We can move the values into a list and then re-instantiate the tuple once it is flattened.\n",
    "\n",
    ">Do we still need this list though? No, of course not, this was a temporary store. So, we need to delete that list, and it will eventually be garbage collected."
   ]
  },
  {
   "cell_type": "code",
   "execution_count": 16,
   "id": "8694f2b3",
   "metadata": {},
   "outputs": [
    {
     "name": "stdout",
     "output_type": "stream",
     "text": [
      "(1, 3, 5, 7, 9, 11)\n"
     ]
    }
   ],
   "source": [
    "list1 = []\n",
    "\n",
    "for val in tuple1:\n",
    "    if type(val) is tuple:\n",
    "        for val2 in val:\n",
    "            list1.append(val2)\n",
    "    else:\n",
    "        list1.append(val)\n",
    "\n",
    "tuple1 = tuple(list1)\n",
    "del list1\n",
    "\n",
    "print(tuple1)"
   ]
  },
  {
   "cell_type": "markdown",
   "id": "cb2ba106",
   "metadata": {},
   "source": [
    "### Sets in Python\n",
    "\n",
    "- Non-ordered\n",
    "- Mutable\n",
    "- Can have mixed types of elements\n",
    "- set() creates an empty set\n",
    "- There can be no repeated values"
   ]
  },
  {
   "cell_type": "code",
   "execution_count": 17,
   "id": "2b2e5762",
   "metadata": {},
   "outputs": [
    {
     "name": "stdout",
     "output_type": "stream",
     "text": [
      "{1, 2, 3}\n",
      "{1, 2, 3}\n"
     ]
    }
   ],
   "source": [
    "set1 = set()\n",
    "set1.add(1)\n",
    "set1.add(2)\n",
    "set1.add(3)\n",
    "\n",
    "set2 = {1,2,3}\n",
    "\n",
    "print(set1)\n",
    "print(set2)"
   ]
  },
  {
   "cell_type": "code",
   "execution_count": 18,
   "id": "ae7adcae",
   "metadata": {},
   "outputs": [
    {
     "name": "stdout",
     "output_type": "stream",
     "text": [
      "1\n",
      "2\n",
      "3\n"
     ]
    }
   ],
   "source": [
    "# Sets are iteratable\n",
    "for val in set1:\n",
    "    print(val)"
   ]
  },
  {
   "cell_type": "code",
   "execution_count": 19,
   "id": "8137b745",
   "metadata": {},
   "outputs": [
    {
     "data": {
      "text/plain": [
       "{1, 2}"
      ]
     },
     "execution_count": 19,
     "metadata": {},
     "output_type": "execute_result"
    }
   ],
   "source": [
    "# We can remove *values* from sets as well, as there are no indices\n",
    "set1.remove(3)\n",
    "set1"
   ]
  },
  {
   "cell_type": "code",
   "execution_count": 20,
   "id": "a262ad46",
   "metadata": {},
   "outputs": [
    {
     "data": {
      "text/plain": [
       "{1, 2}"
      ]
     },
     "execution_count": 20,
     "metadata": {},
     "output_type": "execute_result"
    }
   ],
   "source": [
    "# But, remove will raise an error if that value is not within the set. We could also use discard(), \n",
    "# which will not raise an error if the key does not exist.\n",
    "set1.discard(3)\n",
    "set1"
   ]
  },
  {
   "cell_type": "code",
   "execution_count": 21,
   "id": "8d7b09d2",
   "metadata": {},
   "outputs": [
    {
     "name": "stdout",
     "output_type": "stream",
     "text": [
      "{1, 2}\n",
      "{1, 2, 7, 8, 9}\n"
     ]
    }
   ],
   "source": [
    "# We can also update sets\n",
    "print(set1)\n",
    "set1.update([7,8,9])\n",
    "print(set1)"
   ]
  },
  {
   "cell_type": "code",
   "execution_count": 22,
   "id": "ece67adb",
   "metadata": {},
   "outputs": [
    {
     "data": {
      "text/plain": [
       "[1, 3, 5, 7, 9, 11]"
      ]
     },
     "execution_count": 22,
     "metadata": {},
     "output_type": "execute_result"
    }
   ],
   "source": [
    "# Assignment: Remove the duplicates from the list\n",
    "list1 = [1,3,5,3,1,11,5,7,9]\n",
    "list1 = list(set(list1))\n",
    "\n",
    "list1"
   ]
  },
  {
   "cell_type": "markdown",
   "id": "fafa640f",
   "metadata": {},
   "source": [
    ">Frozen sets are immutable and can be created from sets:"
   ]
  },
  {
   "cell_type": "code",
   "execution_count": 23,
   "id": "74ae0318",
   "metadata": {},
   "outputs": [
    {
     "name": "stdout",
     "output_type": "stream",
     "text": [
      "{'banana', 'apple', 'pear'}\n",
      "{'banana', 'apple', 'orange', 'pear'}\n",
      "frozenset({'banana', 'apple', 'orange', 'pear'})\n"
     ]
    }
   ],
   "source": [
    "set1 = {'apple', 'banana', 'pear'}\n",
    "print(set1)\n",
    "set1.add('orange')\n",
    "print(set1)\n",
    "fs = frozenset(set1)\n",
    "# fs.add('grapes') # Creates an attribute error\n",
    "print(fs)"
   ]
  },
  {
   "cell_type": "code",
   "execution_count": 24,
   "id": "caf4b7ed",
   "metadata": {},
   "outputs": [
    {
     "name": "stdout",
     "output_type": "stream",
     "text": [
      "frozenset({'banana', 'apple', 'orange', 'pear'})\n"
     ]
    }
   ],
   "source": [
    "print(fs)"
   ]
  },
  {
   "cell_type": "code",
   "execution_count": 25,
   "id": "45dcbac5",
   "metadata": {},
   "outputs": [
    {
     "data": {
      "text/plain": [
       "{'this': 2, 'is': 4, 'a': 1, 'string': 2}"
      ]
     },
     "execution_count": 25,
     "metadata": {},
     "output_type": "execute_result"
    }
   ],
   "source": [
    "# Assignment: Write a function that accepts a string \n",
    "# as a parameter and displays words and their frequency\n",
    "def word_frequency(str, case_sensitive = True):\n",
    "    dict = {}\n",
    "    \n",
    "    if case_sensitive:\n",
    "        str_list = str.split(' ')\n",
    "    else:\n",
    "        str_list = str.lower().split(' ')\n",
    "    \n",
    "    for val in str_list:\n",
    "        if val not in dict:\n",
    "            dict[val] = 1\n",
    "        else:\n",
    "            dict[val] += 1\n",
    "        \n",
    "    return dict\n",
    "\n",
    "word_frequency(\"THIS is is is a STring strinG this is\", False)\n",
    "            "
   ]
  },
  {
   "cell_type": "markdown",
   "id": "9020bd99",
   "metadata": {},
   "source": [
    "### Dictionaries in Python\n",
    "- Unordered (ordered post 3.6)\n",
    "- Key:Value pairs\n",
    "- Key needs to be immutable type, value can be any type\n",
    "- No duplicate keys"
   ]
  },
  {
   "cell_type": "code",
   "execution_count": 26,
   "id": "a9c46acd",
   "metadata": {},
   "outputs": [],
   "source": [
    "dict1 = {'name': 'Jimmy', 'age': '34'}"
   ]
  },
  {
   "cell_type": "code",
   "execution_count": 27,
   "id": "2e86d9c9",
   "metadata": {},
   "outputs": [],
   "source": [
    "# dict1['city'] # Returns a key error, so we can use the get() method"
   ]
  },
  {
   "cell_type": "code",
   "execution_count": 28,
   "id": "33b0c3a1",
   "metadata": {},
   "outputs": [
    {
     "name": "stdout",
     "output_type": "stream",
     "text": [
      "None\n"
     ]
    }
   ],
   "source": [
    "value = dict1.get('city') # This returns None by default, but it can accept a second parameter, the default value\n",
    "print(value)"
   ]
  },
  {
   "cell_type": "code",
   "execution_count": 29,
   "id": "d1f8a074",
   "metadata": {},
   "outputs": [
    {
     "name": "stdout",
     "output_type": "stream",
     "text": [
      "name\n",
      "age\n",
      "_______________________________________________\n",
      "\n",
      "name\n",
      "age\n",
      "_______________________________________________\n",
      "\n",
      "Jimmy\n",
      "34\n"
     ]
    }
   ],
   "source": [
    "# When we iterate over a dictionary, we access the keys directly\n",
    "for ele in dict1:\n",
    "    print(ele)\n",
    "\n",
    "print(\"_______________________________________________\\n\")\n",
    "# We can also access the keys by using the keys() method, which creates a list\n",
    "for val in dict1.keys():\n",
    "    print(val)\n",
    "\n",
    "print(\"_______________________________________________\\n\")\n",
    "# Last, we can print all the values as well\n",
    "for val in dict1.values():\n",
    "    print(val)"
   ]
  },
  {
   "cell_type": "code",
   "execution_count": 30,
   "id": "d975bd30",
   "metadata": {},
   "outputs": [
    {
     "name": "stdout",
     "output_type": "stream",
     "text": [
      "('name', 'Jimmy')\n",
      "('age', '34')\n"
     ]
    }
   ],
   "source": [
    "# Additionally, we can print out each key:value pair as tuples by using the items() method\n",
    "for item in dict1.items():\n",
    "    print(item)"
   ]
  },
  {
   "cell_type": "markdown",
   "id": "430b851a",
   "metadata": {},
   "source": [
    ">Unpacking can be performed on tuples, dicts, sets, and lists. If there is a mismatch between the number of variables and the number of values in the structure, there will be an error. It is the principle of unpacking that we are utilizing in the above .items() method."
   ]
  },
  {
   "cell_type": "code",
   "execution_count": 31,
   "id": "b7d80998",
   "metadata": {},
   "outputs": [
    {
     "name": "stdout",
     "output_type": "stream",
     "text": [
      "1\n",
      "2\n",
      "3\n"
     ]
    }
   ],
   "source": [
    "tuple1 = (1,2,3)\n",
    "a,b,c = tuple1\n",
    "\n",
    "print(a)\n",
    "print(b)\n",
    "print(c)"
   ]
  }
 ],
 "metadata": {
  "kernelspec": {
   "display_name": "Python 3 (ipykernel)",
   "language": "python",
   "name": "python3"
  },
  "language_info": {
   "codemirror_mode": {
    "name": "ipython",
    "version": 3
   },
   "file_extension": ".py",
   "mimetype": "text/x-python",
   "name": "python",
   "nbconvert_exporter": "python",
   "pygments_lexer": "ipython3",
   "version": "3.9.12"
  }
 },
 "nbformat": 4,
 "nbformat_minor": 5
}
