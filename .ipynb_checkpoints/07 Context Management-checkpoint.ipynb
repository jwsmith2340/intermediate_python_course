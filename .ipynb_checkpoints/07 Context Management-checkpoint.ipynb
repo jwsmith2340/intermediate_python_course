{
 "cells": [
  {
   "cell_type": "markdown",
   "id": "1e26470e",
   "metadata": {},
   "source": [
    "### Brain Teaser: Write a function that returns the number of lines in a file. How would we do that?"
   ]
  },
  {
   "cell_type": "code",
   "execution_count": 2,
   "id": "d1779269",
   "metadata": {},
   "outputs": [
    {
     "data": {
      "text/plain": [
       "3"
      ]
     },
     "execution_count": 2,
     "metadata": {},
     "output_type": "execute_result"
    }
   ],
   "source": [
    "def count_lines(filename):\n",
    "    file_obj = open(filename, 'r')\n",
    "    lines = len(file_obj.readlines())\n",
    "    file_obj.close()\n",
    "    return lines\n",
    "\n",
    "# We can also write this isn a different way:\n",
    "def count_lines2(filename):\n",
    "    try:\n",
    "        file_obj = open(filename, 'r')\n",
    "        return len(file_obj.readlines())\n",
    "    # The 'finally' block is called before the return\n",
    "    finally:\n",
    "        file_obj.close()\n",
    "\n",
    "count_lines2('lines.txt')    "
   ]
  },
  {
   "cell_type": "markdown",
   "id": "9e743d94",
   "metadata": {},
   "source": [
    "### Using With statement in Python\n",
    "- Using **with**, we don't have to close resources explicitly\n",
    "- They are closed after execution of the 'with' block\n",
    "- With is also an alternative to writing 'try/finally'"
   ]
  },
  {
   "cell_type": "code",
   "execution_count": 5,
   "id": "a37db347",
   "metadata": {},
   "outputs": [
    {
     "name": "stdout",
     "output_type": "stream",
     "text": [
      "Is the file closed?  True\n"
     ]
    },
    {
     "data": {
      "text/plain": [
       "3"
      ]
     },
     "execution_count": 5,
     "metadata": {},
     "output_type": "execute_result"
    }
   ],
   "source": [
    "def count_lines3(filename):\n",
    "    with open(filename, 'r') as file_obj:\n",
    "        line = len(file_obj.readlines())\n",
    "    print(\"Is the file closed? \", file_obj.closed)\n",
    "    return line\n",
    "\n",
    "count_lines3('lines.txt')"
   ]
  },
  {
   "cell_type": "code",
   "execution_count": 8,
   "id": "ac14a962",
   "metadata": {},
   "outputs": [
    {
     "name": "stdout",
     "output_type": "stream",
     "text": [
      "Before with\n",
      "Context enter\n",
      "Inside with\n",
      "Context exit\n",
      "After with\n"
     ]
    }
   ],
   "source": [
    "# The most simple context example possible\n",
    "class Demo:\n",
    "    def __enter__(self):\n",
    "        print(\"Context enter\")\n",
    "    \n",
    "    def __exit__(self, exception_type, exception_value, traceback):\n",
    "        print(\"Context exit\")\n",
    "\n",
    "print(\"Before with\")\n",
    "with Demo() as d:\n",
    "    print(\"Inside with\")\n",
    "print(\"After with\")    "
   ]
  },
  {
   "cell_type": "code",
   "execution_count": 25,
   "id": "a5152c1b",
   "metadata": {},
   "outputs": [],
   "source": [
    "class Log:\n",
    "    def __init__(self, filename):\n",
    "        print(\"__init__()\")\n",
    "        self.filename = filename\n",
    "        self.fp = None\n",
    "    \n",
    "    def logging(self, text):\n",
    "        print(\"logging()\")\n",
    "        self.fp.write(text + '\\n')\n",
    "    \n",
    "    def __enter__(self):\n",
    "        print(\"__enter__\")\n",
    "        self.fp = open(self.filename, 'w')\n",
    "        return self\n",
    "    \n",
    "    def __exit__(self, exception_type, exception_value, traceback):\n",
    "        if exception_type is not None:\n",
    "            self.fp.write(str(exception_type))\n",
    "            self.fp.write(str(exception_value))\n",
    "        print(\"__exit__\")\n",
    "        self.fp.close()"
   ]
  },
  {
   "cell_type": "markdown",
   "id": "533de3a8",
   "metadata": {},
   "source": [
    ">Now, let's see how this happens. We **enter** the context using **with**. By default, the file is opened at the __enter__ method. The file is opened in that method, and from within the **with Log()** statement we wrote, we are calling the .logging() method. When we run this now, we see that logging has occurred. \n",
    ">\n",
    ">If we uncomment the open('foo.xml'.... line, we will see that our logger will input the error as well."
   ]
  },
  {
   "cell_type": "code",
   "execution_count": 28,
   "id": "04fa709d",
   "metadata": {},
   "outputs": [
    {
     "name": "stdout",
     "output_type": "stream",
     "text": [
      "__init__()\n",
      "__enter__\n",
      "logging()\n",
      "logging()\n",
      "logging()\n",
      "__exit__\n"
     ]
    }
   ],
   "source": [
    "with Log('output.txt') as log_obj:\n",
    "    log_obj.logging('Log line 1')\n",
    "    log_obj.logging('Log line 2')\n",
    "    #open('foo.xml', 'r')\n",
    "    log_obj.logging('Log line 3')"
   ]
  },
  {
   "cell_type": "markdown",
   "id": "55653ec8",
   "metadata": {},
   "source": [
    ">There is a closing object from the Python std library that automatically closes context from **with** blocks.\n",
    ">\n",
    ">When the context manager exits, it automatically calls the 'close()' method. Note that we never actually called close in the below example."
   ]
  },
  {
   "cell_type": "code",
   "execution_count": 29,
   "id": "1a7bd99b",
   "metadata": {},
   "outputs": [
    {
     "name": "stdout",
     "output_type": "stream",
     "text": [
      "Initialized\n",
      "Do something with the object\n",
      "Closing\n"
     ]
    }
   ],
   "source": [
    "from contextlib import closing\n",
    "\n",
    "class Something:\n",
    "    def __init__(self):\n",
    "        print(\"Initialized\")\n",
    "        \n",
    "    def close(self):\n",
    "        print(\"Closing\")\n",
    "\n",
    "with closing(Something()) as obj:\n",
    "    print(\"Do something with the object\")"
   ]
  },
  {
   "cell_type": "markdown",
   "id": "0174929f",
   "metadata": {},
   "source": [
    ">So, when to use each? \n",
    ">- Use the Log style when you have a pre and post activity\n",
    ">- When you have no pre or post activity, use the closing method"
   ]
  },
  {
   "cell_type": "code",
   "execution_count": 30,
   "id": "36022b7f",
   "metadata": {},
   "outputs": [
    {
     "name": "stdout",
     "output_type": "stream",
     "text": [
      "Initialized\n",
      "Do something with the obj\n",
      "Closing\n"
     ]
    }
   ],
   "source": [
    "# Equivalent to the above with block\n",
    "try:\n",
    "    obj = Something()\n",
    "    print(\"Do something with the obj\")\n",
    "finally:\n",
    "    obj.close()"
   ]
  }
 ],
 "metadata": {
  "kernelspec": {
   "display_name": "Python 3 (ipykernel)",
   "language": "python",
   "name": "python3"
  },
  "language_info": {
   "codemirror_mode": {
    "name": "ipython",
    "version": 3
   },
   "file_extension": ".py",
   "mimetype": "text/x-python",
   "name": "python",
   "nbconvert_exporter": "python",
   "pygments_lexer": "ipython3",
   "version": "3.10.4"
  }
 },
 "nbformat": 4,
 "nbformat_minor": 5
}
