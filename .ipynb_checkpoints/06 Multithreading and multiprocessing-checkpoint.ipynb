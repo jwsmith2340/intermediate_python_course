{
 "cells": [
  {
   "cell_type": "markdown",
   "id": "1484f768",
   "metadata": {},
   "source": [
    "### Multithreading\n",
    "- A thread is part of a process with its own path to execution that are executed concurrently\n",
    "- **Concurrent** execution"
   ]
  },
  {
   "cell_type": "code",
   "execution_count": 1,
   "id": "fbf3fa8f",
   "metadata": {},
   "outputs": [],
   "source": [
    "# To use threading, we want to also import os and time\n",
    "import os\n",
    "import time\n",
    "import threading"
   ]
  },
  {
   "cell_type": "code",
   "execution_count": 2,
   "id": "6708cf65",
   "metadata": {},
   "outputs": [
    {
     "name": "stdout",
     "output_type": "stream",
     "text": [
      "Program enter\n",
      "Process id -  16720\n",
      "Current thread name:  MainThread\n",
      "Program exit\n"
     ]
    }
   ],
   "source": [
    "# The current_thread() gives us the current thread running in the CPU\n",
    "print(\"Program enter\")\n",
    "\n",
    "print('Process id - ', os.getpid())\n",
    "print(\"Current thread name: \", threading.current_thread().name)\n",
    "time.sleep(4)\n",
    "\n",
    "print(\"Program exit\")"
   ]
  },
  {
   "cell_type": "markdown",
   "id": "08af48ad",
   "metadata": {},
   "source": [
    ">MainThread is not created by us, we only supply code that is executed by the MainThread. But, from MainThread, we can create new threads.\n",
    ">\n",
    ">This is what learning multithreading is all about\n",
    ">\n",
    ">Now that we have learned about the current thread, how do we create new threads?"
   ]
  },
  {
   "cell_type": "markdown",
   "id": "2ded9eee",
   "metadata": {},
   "source": [
    "### Creating new Threads\n",
    "- There are two main ways to create threads in Python\n",
    "    - Create an instance of the Thread class\n",
    "    - Through inheritance (create an instance of the sub-class of Thread \\<we have to write the sub-class\\>)"
   ]
  },
  {
   "cell_type": "code",
   "execution_count": 3,
   "id": "4ceafa44",
   "metadata": {},
   "outputs": [],
   "source": [
    "def run():\n",
    "    for i in range(5):\n",
    "        print(\"Thread name - \", threading.current_thread().name, \" - Process id \", os.getpid())"
   ]
  },
  {
   "cell_type": "code",
   "execution_count": 4,
   "id": "4a1865d6",
   "metadata": {},
   "outputs": [
    {
     "name": "stdout",
     "output_type": "stream",
     "text": [
      "Main thread enter - Process id -  16720\n",
      "Thread name -  Thread-5 (run)  - Process id  16720\n",
      "Thread name -  Thread-5 (run)  - Process id  16720\n",
      "Thread name -  Thread-5 (run)  - Process id  16720\n",
      "Thread name -  Thread-5 (run)  - Process id  16720\n",
      "Thread name -  Thread-5 (run)  - Process id  16720\n",
      "Main thread exit\n"
     ]
    }
   ],
   "source": [
    "# This is how we run a thread, we create the threads, and then we give it a target method\n",
    "print(\"Main thread enter - Process id - \", os.getpid())\n",
    "t1 = threading.Thread(target=run)\n",
    "t1.start()\n",
    "print(\"Main thread exit\")"
   ]
  },
  {
   "cell_type": "markdown",
   "id": "f16e76c0",
   "metadata": {},
   "source": [
    ">Remember, a thread is executing part of **one** process, which we can see above; the process ID is the same for all of the thread outputs.\n",
    ">\n",
    ">What if we were to pause the execution though? What would happen then?"
   ]
  },
  {
   "cell_type": "code",
   "execution_count": 5,
   "id": "2dc4b1c7",
   "metadata": {},
   "outputs": [],
   "source": [
    "def run():\n",
    "    for i in range(5):\n",
    "        print(\"Thread name - \", threading.current_thread().name, \" - Process id \", os.getpid())\n",
    "        time.sleep(1)"
   ]
  },
  {
   "cell_type": "code",
   "execution_count": 6,
   "id": "4a385f0e",
   "metadata": {},
   "outputs": [
    {
     "name": "stdout",
     "output_type": "stream",
     "text": [
      "Main thread enter - Process id -  16720\n",
      "Thread name -  Thread-6 (run)  - Process id  16720\n",
      "Main thread exit\n",
      "Thread name -  Thread-6 (run)  - Process id  16720\n"
     ]
    }
   ],
   "source": [
    "# This is how we run a thread, we create the threads, and then we give it a target method\n",
    "print(\"Main thread enter - Process id - \", os.getpid())\n",
    "t1 = threading.Thread(target=run)\n",
    "t1.start()\n",
    "print(\"Main thread exit\")"
   ]
  },
  {
   "cell_type": "markdown",
   "id": "bac6ad11",
   "metadata": {},
   "source": [
    ">It is good practice to name the threads if you need to debug or diagnose problems in the code. So, it is good practice to name the thread.\n",
    ">\n",
    ">If we look above, we see that t1 finished **after** the main thread exit. We don't want that to happen. We want the main thread to be the last to quit the application. So, what are our options? \n",
    ">\n",
    ">We can make the main thread **wait** for t1 to finish it's task. Let's look at the join() method"
   ]
  },
  {
   "cell_type": "code",
   "execution_count": 7,
   "id": "71e9bf35",
   "metadata": {},
   "outputs": [
    {
     "name": "stdout",
     "output_type": "stream",
     "text": [
      "Thread name -  Thread-6 (run)  - Process id  16720\n",
      "Thread name -  Thread-6 (run)  - Process id  16720\n",
      "Thread name -  Thread-6 (run)  - Process id  16720\n"
     ]
    }
   ],
   "source": [
    "def run():\n",
    "    for i in range(5):\n",
    "        print(\"Thread name - \", threading.current_thread().name, \" - Process id \", os.getpid())\n",
    "        time.sleep(1)"
   ]
  },
  {
   "cell_type": "code",
   "execution_count": 8,
   "id": "16756801",
   "metadata": {},
   "outputs": [
    {
     "name": "stdout",
     "output_type": "stream",
     "text": [
      "Main thread enter - Process id -  16720\n",
      "Thread name -  join-portion-thread  - Process id  16720\n",
      "join-portion-thread is alive - True\n",
      "Thread name -  join-portion-thread  - Process id  16720\n",
      "Thread name -  join-portion-thread  - Process id  16720\n",
      "Thread name -  join-portion-thread  - Process id  16720\n",
      "Thread name -  join-portion-thread  - Process id  16720\n",
      "join-portion-thread is alive - False\n",
      "Main thread exit\n"
     ]
    }
   ],
   "source": [
    "# This is how we run a thread, we create the threads, and then we give it a target method\n",
    "print(\"Main thread enter - Process id - \", os.getpid())\n",
    "t1 = threading.Thread(target=run, name=\"join-portion-thread\")\n",
    "t1.start()\n",
    "\n",
    "print(f\"{t1.name} is alive - {t1.is_alive()}\")\n",
    "t1.join() # Current thread (Main thread in this case) goes to wait state, get notified when t1 is dead\n",
    "print(f\"{t1.name} is alive - {t1.is_alive()}\")\n",
    "\n",
    "print(\"Main thread exit\")"
   ]
  },
  {
   "cell_type": "markdown",
   "id": "c2e44d92",
   "metadata": {},
   "source": [
    ">The main thread t1 continues as long as the thread is alive. Once the thread dies, aka the process is completed and it is no longer in use, t1 is no longer alive (False output), and the main thread exits. \n",
    ">\n",
    ">Now, let's look at the **context** of running the same method with two different threads. Note: The output may look a little jumbled, but the important thing to see here is that we are running the method at the same time with two different threads. "
   ]
  },
  {
   "cell_type": "code",
   "execution_count": 9,
   "id": "2efd636f",
   "metadata": {},
   "outputs": [
    {
     "name": "stdout",
     "output_type": "stream",
     "text": [
      "Thread name -  First-Thread  - Process id  16720\n",
      "Thread name -  Second-Thread  - Process id  16720\n",
      "Thread name - Thread name -  First-Thread  - Process id  16720\n",
      " Second-Thread  - Process id  16720\n",
      "Thread name - Thread name -  First-Thread  - Process id  16720\n",
      " Second-Thread  - Process id  16720\n",
      "Thread name - Thread name -  First-Thread  - Process id  16720\n",
      " Second-Thread  - Process id  16720\n",
      "Thread name - Thread name -  Second-Thread  - Process id  16720\n",
      " First-Thread  - Process id  16720\n"
     ]
    }
   ],
   "source": [
    "t1 = threading.Thread(target=run, name='First-Thread')\n",
    "t2 = threading.Thread(target=run, name='Second-Thread')\n",
    "\n",
    "t1.start()\n",
    "t2.start()"
   ]
  },
  {
   "cell_type": "markdown",
   "id": "b62abbc0",
   "metadata": {},
   "source": [
    ">But what if we want to pass certain data to the target method of the thread? How do we pass that data? How do we pass an argument?\n",
    ">\n",
    ">Each thread can actually send different data to the target function by using the concept of args"
   ]
  },
  {
   "cell_type": "code",
   "execution_count": 10,
   "id": "3436a36f",
   "metadata": {},
   "outputs": [],
   "source": [
    "def demo(*args):\n",
    "    print(threading.current_thread().name, ' - ', args)"
   ]
  },
  {
   "cell_type": "code",
   "execution_count": 11,
   "id": "960bfb2c",
   "metadata": {},
   "outputs": [
    {
     "name": "stdout",
     "output_type": "stream",
     "text": [
      "First  -  ('H', 'e', 'l', 'l', 'o')\n"
     ]
    }
   ],
   "source": [
    "t1 = threading.Thread(target=demo, name='First', args=('Hello'))\n",
    "t1.start()"
   ]
  },
  {
   "cell_type": "code",
   "execution_count": 12,
   "id": "f7e901e3",
   "metadata": {},
   "outputs": [
    {
     "name": "stdout",
     "output_type": "stream",
     "text": [
      "Second  -  (1, 2, 3, 4, 5)\n"
     ]
    }
   ],
   "source": [
    "t2 = threading.Thread(target=demo, name='Second', args=(1,2,3,4,5))\n",
    "t2.start()"
   ]
  },
  {
   "cell_type": "markdown",
   "id": "609897db",
   "metadata": {},
   "source": [
    "#### Write a target function for a thread that accepts any number of ints and displays the sum"
   ]
  },
  {
   "cell_type": "code",
   "execution_count": 13,
   "id": "2f8f9541",
   "metadata": {},
   "outputs": [],
   "source": [
    "def sum_fn(*args):\n",
    "    res_sum = 0\n",
    "    for val in args:\n",
    "        res_sum += val\n",
    "        \n",
    "    print(\"The sum is: \", res_sum)"
   ]
  },
  {
   "cell_type": "code",
   "execution_count": 14,
   "id": "42a23682",
   "metadata": {},
   "outputs": [
    {
     "name": "stdout",
     "output_type": "stream",
     "text": [
      "The sum is:  15\n",
      "The sum is:  6\n"
     ]
    }
   ],
   "source": [
    "t1 = threading.Thread(target=sum_fn, name=\"First\", args=(1,2,3,4,5))\n",
    "t2 = threading.Thread(target=sum_fn, name=\"Second\", args=(1,2,3))\n",
    "t1.start()\n",
    "t2.start()"
   ]
  },
  {
   "cell_type": "markdown",
   "id": "0fade556",
   "metadata": {},
   "source": [
    "### Create a thread by inheritance\n",
    "- Write a sub-class of Thread class\n",
    "- Target method by default would be run(self)\n",
    "- t.run attribute can be used to specify a different method as target method\n",
    "- Arguments to the target can be set explicitly through 'args' attribute of the Thread"
   ]
  },
  {
   "cell_type": "code",
   "execution_count": 15,
   "id": "31be3066",
   "metadata": {},
   "outputs": [],
   "source": [
    "# The way we specify the parent class is the threading.Thread in the parameters\n",
    "class MyThread(threading.Thread):\n",
    "    def run(self):\n",
    "        for i in range(5):\n",
    "            print(\"Thread name - \", threading.current_thread().name, \": Process id - \", os.getpid())\n",
    "            time.sleep(1)\n",
    "    def do_something(self):\n",
    "        print(\"I'm doing something instead of running\")"
   ]
  },
  {
   "cell_type": "code",
   "execution_count": 16,
   "id": "2b264024",
   "metadata": {},
   "outputs": [
    {
     "name": "stdout",
     "output_type": "stream",
     "text": [
      "Thread name -  My First Thread : Process id -  16720\n",
      "Thread name -  My First Thread : Process id -  16720\n",
      "Thread name -  My First Thread : Process id -  16720\n",
      "Thread name -  My First Thread : Process id -  16720\n",
      "Thread name -  My First Thread : Process id -  16720\n"
     ]
    }
   ],
   "source": [
    "t1 = MyThread()\n",
    "t1.name = \"My First Thread\"\n",
    "t1.start()"
   ]
  },
  {
   "cell_type": "markdown",
   "id": "59e53918",
   "metadata": {},
   "source": [
    ">Notice, we never actually specified a target method, but remember, the method **run(self)** will be called automatically. \n",
    ">\n",
    ">If you want some other method to be the entry point, then you must specify that, or else it will default to the run method."
   ]
  },
  {
   "cell_type": "code",
   "execution_count": 17,
   "id": "b25cee79",
   "metadata": {},
   "outputs": [
    {
     "name": "stdout",
     "output_type": "stream",
     "text": [
      "I'm doing something instead of running\n"
     ]
    }
   ],
   "source": [
    "t1 = MyThread()\n",
    "t1.name = \"My First Thread\"\n",
    "t1.run = t1.do_something\n",
    "t1.start()"
   ]
  },
  {
   "cell_type": "markdown",
   "id": "b42477f6",
   "metadata": {},
   "source": [
    ">This is not the recommended practice though. The entry point should **always** be the run() method. Helper functions can be called from within the run method if you so choose. \n",
    ">\n",
    ">But, what if people want to prevent direct access? We can actually create **private methods** in Python by prefixing a double underscore to the name."
   ]
  },
  {
   "cell_type": "code",
   "execution_count": 18,
   "id": "058c05a3",
   "metadata": {},
   "outputs": [],
   "source": [
    "# The way we specify the parent class is the threading.Thread in the parameters\n",
    "class MyThread(threading.Thread):\n",
    "    def run(self):\n",
    "        self.__do_something()\n",
    "    def __do_something(self):\n",
    "        for i in range(3):\n",
    "            print(\"Thread name - \", threading.current_thread().name, \": Process id - \", os.getpid())\n",
    "            time.sleep(1)"
   ]
  },
  {
   "cell_type": "code",
   "execution_count": 19,
   "id": "f1dd19d8",
   "metadata": {},
   "outputs": [
    {
     "ename": "AttributeError",
     "evalue": "'MyThread' object has no attribute '__do_something'",
     "output_type": "error",
     "traceback": [
      "\u001b[1;31m---------------------------------------------------------------------------\u001b[0m",
      "\u001b[1;31mAttributeError\u001b[0m                            Traceback (most recent call last)",
      "Cell \u001b[1;32mIn[19], line 5\u001b[0m\n\u001b[0;32m      2\u001b[0m t1\u001b[38;5;241m.\u001b[39mname \u001b[38;5;241m=\u001b[39m \u001b[38;5;124m\"\u001b[39m\u001b[38;5;124mMy First Thread\u001b[39m\u001b[38;5;124m\"\u001b[39m\n\u001b[0;32m      4\u001b[0m \u001b[38;5;66;03m# We created a private method here. It is not accessible from outside, but it IS from within the class\u001b[39;00m\n\u001b[1;32m----> 5\u001b[0m t1\u001b[38;5;241m.\u001b[39mrun \u001b[38;5;241m=\u001b[39m \u001b[43mt1\u001b[49m\u001b[38;5;241;43m.\u001b[39;49m\u001b[43m__do_something\u001b[49m \n\u001b[0;32m      7\u001b[0m t1\u001b[38;5;241m.\u001b[39mstart()\n",
      "\u001b[1;31mAttributeError\u001b[0m: 'MyThread' object has no attribute '__do_something'"
     ]
    }
   ],
   "source": [
    "t1 = MyThread()\n",
    "t1.name = \"My First Thread\"\n",
    "\n",
    "# We created a private method here. It is not accessible from outside, but it IS from within the class\n",
    "t1.run = t1.__do_something \n",
    "\n",
    "t1.start()"
   ]
  },
  {
   "cell_type": "code",
   "execution_count": 20,
   "id": "f3f4fa5e",
   "metadata": {},
   "outputs": [
    {
     "name": "stdout",
     "output_type": "stream",
     "text": [
      "Thread name -  My private method thread : Process id -  16720\n",
      "Thread name -  My private method thread : Process id -  16720\n",
      "Thread name -  My private method thread : Process id -  16720\n"
     ]
    }
   ],
   "source": [
    "# Now, we're running the run() method, and we can see that it is able to access the private __do_something method\n",
    "t1 = MyThread()\n",
    "t1.name = \"My private method thread\"\n",
    "t1.start()"
   ]
  },
  {
   "cell_type": "markdown",
   "id": "a895e27f",
   "metadata": {},
   "source": [
    "#### Assignment: Now, we're going to create a sub-class named AddThread\n",
    "- The target adds the arguments and displays the sum"
   ]
  },
  {
   "cell_type": "code",
   "execution_count": 21,
   "id": "7900edd9",
   "metadata": {},
   "outputs": [],
   "source": [
    "class AddThread(threading.Thread):\n",
    "    def run(self):\n",
    "        print(\"Here is the sum of your passed args: \", sum(self.args))"
   ]
  },
  {
   "cell_type": "code",
   "execution_count": 22,
   "id": "637e428d",
   "metadata": {},
   "outputs": [
    {
     "name": "stdout",
     "output_type": "stream",
     "text": [
      "Here is the sum of your passed args:  15\n"
     ]
    }
   ],
   "source": [
    "t1 = AddThread()\n",
    "t1.name = \"Add thread\"\n",
    "t1.args = [1,2,3,4,5]\n",
    "\n",
    "t1.start()"
   ]
  },
  {
   "cell_type": "markdown",
   "id": "0711859c",
   "metadata": {},
   "source": [
    "### Daemon Threads"
   ]
  },
  {
   "cell_type": "code",
   "execution_count": null,
   "id": "a979736b",
   "metadata": {},
   "outputs": [],
   "source": [
    "%%writefile daemon_demo.py\n",
    "import time\n",
    "import threading\n",
    "\n",
    "def daemon_task(*args):\n",
    "    while True:\n",
    "        print(args[0])\n",
    "        time.sleep(1)\n",
    "\n",
    "t1 = threading.Thread(target=daemon_task, daemon=True, args=['This is daemon'])\n",
    "t1.start()\n",
    "\n",
    "for i in range(10):\n",
    "    print('\\tThis is main - ', i)\n",
    "    time.sleep(1)"
   ]
  },
  {
   "cell_type": "markdown",
   "id": "6dfe2144",
   "metadata": {},
   "source": [
    ">The above created a neverending While lool, UNTIL we set daemon=true. When set to true, the deamon will stop when the file stops entirely.\n",
    ">\n",
    ">So, when would we ever use this? Generally speaking, we may not while writing API calls and stuff, but there are many daemon threads running in the background of our systems. For instance, garbage collection is a daemon thread, as is time. \n",
    ">\n",
    ">Therefore, daemon threads are threads we can set to ONLY run when other processes are running. If the daemon is the only thread running, then the runtime will quit."
   ]
  },
  {
   "cell_type": "markdown",
   "id": "c0d22ff0",
   "metadata": {},
   "source": [
    "### Thread resource assignment\n",
    "- Write a class called **resource**\n",
    "- It will have an instance field called data (of type number with 0 as initial value)\n",
    "- It will have an instance method called do_something which will increment data and display the current value of data\n",
    "- Create a thread and set do_something() as the "
   ]
  },
  {
   "cell_type": "code",
   "execution_count": 23,
   "id": "bf1a2550",
   "metadata": {},
   "outputs": [
    {
     "name": "stdout",
     "output_type": "stream",
     "text": [
      "The current thread name is Second, and the value of data: 2\n",
      "The current thread name is First, and the value of data: 2\n",
      "\n",
      "\n"
     ]
    }
   ],
   "source": [
    "# Without Lock, all threads can access the resource aat the same time\n",
    "class Resource(threading.Thread):\n",
    "    def __init__(self):\n",
    "        self.data = 0\n",
    "        \n",
    "    def do_something(self):\n",
    "        self.data += 1\n",
    "        time.sleep(0.2)\n",
    "        print(f\"The current thread name is {threading.current_thread().name}, and the value of data: {self.data}\\n\")\n",
    "    \n",
    "resource = Resource()\n",
    "t1 = threading.Thread(name=\"First\", target=resource.do_something)\n",
    "t2 = threading.Thread(name=\"Second\", target=resource.do_something)\n",
    "\n",
    "t1.start()    \n",
    "t2.start()"
   ]
  },
  {
   "cell_type": "markdown",
   "id": "186c2477",
   "metadata": {},
   "source": [
    ">Context switching can occur in short and long running tasks. There are so many things that can happen that can cause a context switch. We can set a sleep timer to essentially simulate a context switch, which is something set more at the OS level than our level. In the above, we set the time.sleep(0.2) to simulate this context switch. \n",
    ">\n",
    ">So, what is happening? We are seeing 2 and 2 coming out. Why are we not seeing both values here? There is a context switch happening at the sleep, so this is not great, since context switching can occur outside of our control as engineers. How do we fix this?\n",
    ">\n",
    ">This presents a serious issue. What if we were selling seats on an airline? This is no good, this can't happen. So, different threads should get different values. So **what is the problem**?\n",
    ">\n",
    ">The problem is that the threads are using the **same resource**. Because there is a common resource, we have created a **race condition**. There is a race amongst the threads as to which thread will get and use the resource first since the threads are trying to access the resource concurrently. To remedy this, we **must** convert the concurrent access into **serial** access by **locking** the resource. **Serial** access ensures that at any one time, only one thread is accessing the resource. In a way, this does limit multithreading, but we must prevent access to a resource at any given time by other threads to prevent race conditions.\n",
    ">\n",
    ">The **Mutex / Semaphore / Thread Monitor** makes sure that only one thread is using a resource at any given time. It can be thought of as the talking stick. Only the thread holding the mutex can access the resource. We lock a resource against all threads not holding the mutex. So, if Thread1 is in possession of the lock/mutex/semaphore, no other thread can access the resource until the lock is released.\n",
    ">\n",
    ">**Atomic code** is a piece of code that can only be accessed by one thread at any one time, and a **critical section** is a critical section of code for our business that should not be accessed by other threads until it is released. These go hand in hand. Atomic means not further divisible. "
   ]
  },
  {
   "cell_type": "code",
   "execution_count": 24,
   "id": "0c466375",
   "metadata": {},
   "outputs": [
    {
     "name": "stdout",
     "output_type": "stream",
     "text": [
      "The current thread name is First, and the value of data: 1\n",
      "\n",
      "The current thread name is Second, and the value of data: 2\n",
      "\n"
     ]
    }
   ],
   "source": [
    "# With lock, only one thread can access the resource at once\n",
    "class Resource(threading.Thread):\n",
    "    def __init__(self):\n",
    "        self.data = 0\n",
    "        self.lock = threading.Lock() # The lock must be created for the resource\n",
    "        \n",
    "    def do_something(self):\n",
    "        self.lock.acquire() # The lock is acquired and is held until the job is done. This is the Mutex (Mutually Exclusive)\n",
    "        \n",
    "        self.data += 1\n",
    "        time.sleep(0.2)\n",
    "        print(f\"The current thread name is {threading.current_thread().name}, and the value of data: {self.data}\\n\")\n",
    "        \n",
    "        self.lock.release() # Once the job is done, the resource lock is released\n",
    "    \n",
    "resource = Resource()\n",
    "t1 = threading.Thread(name=\"First\", target=resource.do_something)\n",
    "t2 = threading.Thread(name=\"Second\", target=resource.do_something)\n",
    "\n",
    "t1.start()    \n",
    "t2.start()"
   ]
  },
  {
   "cell_type": "markdown",
   "id": "32837d97",
   "metadata": {},
   "source": [
    "### Multiprocessing In Python\n",
    "- When we have more than one CPU core, we can create multiple processes that run in parallel. This allows multiple processes to run instead of just multiple threads within one single process. \n",
    "- Parallel processing using Python (Use as many CPUs as available).\n",
    "- This is in contrast to multithreading which utilizes one CPU that is shared amongst threads."
   ]
  },
  {
   "cell_type": "code",
   "execution_count": 67,
   "id": "5534e8e7",
   "metadata": {},
   "outputs": [],
   "source": [
    "import os\n",
    "import multiprocessing"
   ]
  },
  {
   "cell_type": "code",
   "execution_count": 68,
   "id": "91278cfd",
   "metadata": {},
   "outputs": [
    {
     "name": "stdout",
     "output_type": "stream",
     "text": [
      "Available processors:  8\n",
      "Main process ID:  16720\n",
      "\n",
      "Before Join\n",
      "Worker 1 is alive:  True\n",
      "Worker 2 is alive True\n",
      "Process 1 ID  6360\n",
      "Process 2 ID  12164\n",
      "\n",
      "After Join\n",
      "Worker 1 is alive:  False\n",
      "Worker 2 is alive:  False\n",
      "End of Main Process\n"
     ]
    }
   ],
   "source": [
    "def worker_1(lock, *args):\n",
    "    lock.acquire()\n",
    "    print('Worker 1, Process id: ', os.getpid())\n",
    "    lock.release()\n",
    "\n",
    "def worker_2(lock, *args):\n",
    "    lock.acquire()\n",
    "    print('Worker 2, Process id: ', os.getpid())\n",
    "    lock.release()\n",
    "\n",
    "print('Available processors: ', os.cpu_count())\n",
    "print('Main process ID: ', os.getpid())\n",
    "\n",
    "if __name__ == '__main__':\n",
    "    lock = multiprocessing.Lock()\n",
    "    p1 = multiprocessing.Process(target=worker_1, args=(lock, 10))\n",
    "    p2 = multiprocessing.Process(target=worker_2, args=(lock, 10))\n",
    "\n",
    "    p1.start()\n",
    "    p2.start()\n",
    "\n",
    "    print('\\nBefore Join')\n",
    "    print('Worker 1 is alive: ', p1.is_alive())\n",
    "    print('Worker 2 is alive', p2.is_alive())\n",
    "\n",
    "    p1.join()\n",
    "    print(\"Process 1 ID \", p1.pid)\n",
    "    p2.join()\n",
    "    print(\"Process 2 ID \", p2.pid)\n",
    "\n",
    "    print('\\nAfter Join')\n",
    "    print('Worker 1 is alive: ', p1.is_alive())\n",
    "    print('Worker 2 is alive: ', p2.is_alive())\n",
    "\n",
    "    print('End of Main Process')"
   ]
  },
  {
   "cell_type": "markdown",
   "id": "fa0491f2",
   "metadata": {},
   "source": [
    "### Sharing data in Multiprocessing through Queue"
   ]
  },
  {
   "cell_type": "code",
   "execution_count": 78,
   "id": "581bb137",
   "metadata": {},
   "outputs": [
    {
     "name": "stdout",
     "output_type": "stream",
     "text": [
      "5\n"
     ]
    }
   ],
   "source": [
    "# This works in VS Code or PyCharm, just won't run here\n",
    "from multiprocessing import Process, Queue\n",
    "\n",
    "# Child process code\n",
    "def func(queue):\n",
    "    value = queue.get()\n",
    "    for i in range(1, value + 1):\n",
    "        queue.put(i * i)\n",
    "    \n",
    "# Parent process code\n",
    "if __name__ == '__main__':\n",
    "    q = Queue()\n",
    "    child = Process(target=func, args=(q,))\n",
    "    q.put(5)\n",
    "    child.start()\n",
    "    child.join()\n",
    "    \n",
    "    while not q.empty():\n",
    "        print(q.get())"
   ]
  },
  {
   "cell_type": "markdown",
   "id": "bed310d4",
   "metadata": {},
   "source": [
    "### Sharing data in Multiprocessing through Pipe\n",
    "- Faster than Queue, because the Python queue is built on Pipe"
   ]
  },
  {
   "cell_type": "code",
   "execution_count": 79,
   "id": "0e86df9d",
   "metadata": {},
   "outputs": [],
   "source": [
    "# This code works in VS Code or PyCharm, just won't run here\n",
    "from multiprocessing import Process, Pipe\n",
    "\n",
    "# Child process code\n",
    "def func(conn):\n",
    "    value = conn.recv()\n",
    "    print(f\"Child received {value}\")\n",
    "    for i in range(1, value + 1):\n",
    "        conn.send(i*i)\n",
    "    \n",
    "# Parent process code\n",
    "if __name__ == '__main__':\n",
    "    parent_conn, child_conn = Pipe()\n",
    "    child = Process(target=func, args=(child_conn,))\n",
    "    child.start()\n",
    "    num = 10\n",
    "    parent_conn.send(num)\n",
    "    for i in range(num):\n",
    "        print(parent_conn.recv())\n",
    "    \n",
    "    child.join()\n",
    "    parent_conn.close()\n",
    "    print(\"Pipe closed\")"
   ]
  }
 ],
 "metadata": {
  "kernelspec": {
   "display_name": "Python 3 (ipykernel)",
   "language": "python",
   "name": "python3"
  },
  "language_info": {
   "codemirror_mode": {
    "name": "ipython",
    "version": 3
   },
   "file_extension": ".py",
   "mimetype": "text/x-python",
   "name": "python",
   "nbconvert_exporter": "python",
   "pygments_lexer": "ipython3",
   "version": "3.10.4"
  }
 },
 "nbformat": 4,
 "nbformat_minor": 5
}
